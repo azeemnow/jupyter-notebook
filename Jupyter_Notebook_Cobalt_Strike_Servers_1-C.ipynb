{
 "cells": [
  {
   "cell_type": "markdown",
   "metadata": {},
   "source": [
    "# Jupyter Notebook for Cybersecurity - Part 3/5"
   ]
  },
  {
   "cell_type": "markdown",
   "metadata": {},
   "source": [
    "**The is part 3/5 of the project. While some of the instructions and code will repeat it is recommended that you review previous parts to get a complete understanding of the process.**"
   ]
  },
  {
   "cell_type": "markdown",
   "metadata": {},
   "source": [
    "Jupter Notebook is an open interactive tool for large-scale data exploration, transformation, analysis, and visualization. It is built on Jupyter (formerly IPython) and is similar to Google Cloud's Datalab."
   ]
  },
  {
   "cell_type": "markdown",
   "metadata": {},
   "source": [
    "The data set used in this Jupyter Notebook is the **CobaltStrike_Hunting Google Doc** The sheet named **Cobalt Strike -Te-k research 2020** was downloaded and saved locally as a CSV file. \n",
    "\n",
    "Link to the Google Doc Sheet is: https://docs.google.com/spreadsheets/d/1bYvBh6NkNYGstfQWnT5n7cSxdhjSn1mduX8cziWSGrw/edit#gid=516128248"
   ]
  },
  {
   "cell_type": "markdown",
   "metadata": {},
   "source": [
    "# Getting Started"
   ]
  },
  {
   "cell_type": "markdown",
   "metadata": {},
   "source": [
    "## Install Libraries"
   ]
  },
  {
   "cell_type": "markdown",
   "metadata": {},
   "source": [
    "First step: in your computer's command prompt enter the following two commands to install the pandas and matplotlib libraries:"
   ]
  },
  {
   "cell_type": "raw",
   "metadata": {},
   "source": [
    "pip3 install pandas\n",
    "pip3 install matplotlib"
   ]
  },
  {
   "cell_type": "markdown",
   "metadata": {},
   "source": [
    "Note: \"Pip3\" is a version of the pip installer for python3"
   ]
  },
  {
   "cell_type": "markdown",
   "metadata": {},
   "source": [
    "Note: If you have already installed these during the earlier parts then you can skip the above step"
   ]
  },
  {
   "cell_type": "markdown",
   "metadata": {},
   "source": [
    "## Import Libraries\n",
    "\n",
    "Second Step: import the above installed libraries in your Jupyter Notebook with few additional"
   ]
  },
  {
   "cell_type": "code",
   "execution_count": 2,
   "metadata": {},
   "outputs": [],
   "source": [
    "import pandas as pd\n",
    "# data analysis and manipulation tool\n",
    "\n",
    "import numpy as np\n",
    "# mathematical functions\n",
    "\n",
    "import matplotlib.pyplot as plt\n",
    "# creating static, animated, and interactive visualizations\n",
    "\n",
    "%matplotlib inline\n",
    "# renders static images \n",
    "\n",
    "%matplotlib notebook\n",
    "# renders dynamic interactive images \n",
    "\n",
    "import re\n",
    "# regular expression library\n",
    "\n",
    "import socket\n",
    "# allows various network operations. Here its used to get hostname of an IP address\n",
    "\n",
    "import ipapi\n",
    "# https://github.com/ipapi-co/ipapi-python\n",
    "\n",
    "# import json\n",
    "# handling json format data\n",
    "\n",
    "import time\n",
    "# provides various time-related functions. Here its used to pause execution for few seconds\n",
    "\n",
    "import sys\n",
    "# access system-specific parameters and functions"
   ]
  },
  {
   "cell_type": "code",
   "execution_count": 3,
   "metadata": {},
   "outputs": [],
   "source": [
    "df = pd.read_csv('cb_servers_small.csv')\n",
    "\n",
    "##default display setting in the pandas library is to show just a few rows from the full output. You can override this to display all results:\n",
    "# pd.set_option('display.max_rows', df.shape[0]+1)\n",
    "# print(df)"
   ]
  },
  {
   "cell_type": "markdown",
   "metadata": {},
   "source": [
    "# Default Data Display\n",
    "\n",
    "By default, the pandas' library displays just a few rows of the full output. You can override this to display all of the output by executing the following code:"
   ]
  },
  {
   "cell_type": "raw",
   "metadata": {},
   "source": [
    "pd.set_option('display.max_rows', df.shape[0]+1)\n",
    "print(df)"
   ]
  },
  {
   "cell_type": "markdown",
   "metadata": {},
   "source": [
    "### Confirm a Successful Data Load"
   ]
  },
  {
   "cell_type": "code",
   "execution_count": 4,
   "metadata": {
    "scrolled": false
   },
   "outputs": [
    {
     "data": {
      "text/html": [
       "<div>\n",
       "<style scoped>\n",
       "    .dataframe tbody tr th:only-of-type {\n",
       "        vertical-align: middle;\n",
       "    }\n",
       "\n",
       "    .dataframe tbody tr th {\n",
       "        vertical-align: top;\n",
       "    }\n",
       "\n",
       "    .dataframe thead th {\n",
       "        text-align: right;\n",
       "    }\n",
       "</style>\n",
       "<table border=\"1\" class=\"dataframe\">\n",
       "  <thead>\n",
       "    <tr style=\"text-align: right;\">\n",
       "      <th></th>\n",
       "      <th>Host</th>\n",
       "      <th>SSL</th>\n",
       "      <th>Port</th>\n",
       "      <th>GET uri</th>\n",
       "      <th>POST uri</th>\n",
       "      <th>User Agent</th>\n",
       "      <th>Watermark</th>\n",
       "    </tr>\n",
       "  </thead>\n",
       "  <tbody>\n",
       "    <tr>\n",
       "      <th>0</th>\n",
       "      <td>54.66.253.144</td>\n",
       "      <td>True</td>\n",
       "      <td>443</td>\n",
       "      <td>54.66.253.144,/s/ref=nb_sb_noss_1/167-3294888-...</td>\n",
       "      <td>/N4215/adj/amzn.us.sr.aps</td>\n",
       "      <td>Mozilla/5.0 (Windows NT 6.1; WOW64; Trident/7....</td>\n",
       "      <td>562884990</td>\n",
       "    </tr>\n",
       "    <tr>\n",
       "      <th>1</th>\n",
       "      <td>103.243.183.250</td>\n",
       "      <td>True</td>\n",
       "      <td>443</td>\n",
       "      <td>103.243.183.250,/search.js</td>\n",
       "      <td>/hr</td>\n",
       "      <td>Mozilla/5.0 (Linux; Android 6.0; HTC One X10 B...</td>\n",
       "      <td>305419896</td>\n",
       "    </tr>\n",
       "    <tr>\n",
       "      <th>2</th>\n",
       "      <td>185.82.126.47</td>\n",
       "      <td>True</td>\n",
       "      <td>443</td>\n",
       "      <td>185.82.126.47,/pixel</td>\n",
       "      <td>/submit.php</td>\n",
       "      <td>Mozilla/5.0 (compatible; MSIE 9.0; Windows NT ...</td>\n",
       "      <td>305419896</td>\n",
       "    </tr>\n",
       "    <tr>\n",
       "      <th>3</th>\n",
       "      <td>94.156.174.121</td>\n",
       "      <td>True</td>\n",
       "      <td>443</td>\n",
       "      <td>94.156.174.121,/watch</td>\n",
       "      <td>/ptracking</td>\n",
       "      <td>Mozilla/5.0 (Windows NT 6.1) AppleWebKit/537.3...</td>\n",
       "      <td>76803050</td>\n",
       "    </tr>\n",
       "  </tbody>\n",
       "</table>\n",
       "</div>"
      ],
      "text/plain": [
       "              Host   SSL  Port  \\\n",
       "0    54.66.253.144  True   443   \n",
       "1  103.243.183.250  True   443   \n",
       "2    185.82.126.47  True   443   \n",
       "3   94.156.174.121  True   443   \n",
       "\n",
       "                                             GET uri  \\\n",
       "0  54.66.253.144,/s/ref=nb_sb_noss_1/167-3294888-...   \n",
       "1                         103.243.183.250,/search.js   \n",
       "2                               185.82.126.47,/pixel   \n",
       "3                              94.156.174.121,/watch   \n",
       "\n",
       "                    POST uri  \\\n",
       "0  /N4215/adj/amzn.us.sr.aps   \n",
       "1                        /hr   \n",
       "2                /submit.php   \n",
       "3                 /ptracking   \n",
       "\n",
       "                                          User Agent  Watermark  \n",
       "0  Mozilla/5.0 (Windows NT 6.1; WOW64; Trident/7....  562884990  \n",
       "1  Mozilla/5.0 (Linux; Android 6.0; HTC One X10 B...  305419896  \n",
       "2  Mozilla/5.0 (compatible; MSIE 9.0; Windows NT ...  305419896  \n",
       "3  Mozilla/5.0 (Windows NT 6.1) AppleWebKit/537.3...   76803050  "
      ]
     },
     "execution_count": 4,
     "metadata": {},
     "output_type": "execute_result"
    }
   ],
   "source": [
    "df.head()"
   ]
  },
  {
   "cell_type": "markdown",
   "metadata": {},
   "source": [
    "## Data Iteration"
   ]
  },
  {
   "cell_type": "code",
   "execution_count": 8,
   "metadata": {
    "scrolled": true
   },
   "outputs": [
    {
     "data": {
      "text/plain": [
       "0      54.66.253.144\n",
       "1    103.243.183.250\n",
       "2      185.82.126.47\n",
       "3     94.156.174.121\n",
       "Name: Host, dtype: object"
      ]
     },
     "execution_count": 8,
     "metadata": {},
     "output_type": "execute_result"
    }
   ],
   "source": [
    "# Lists contents of just the \"Host\" column\n",
    "df['Host'].head()"
   ]
  },
  {
   "cell_type": "code",
   "execution_count": 9,
   "metadata": {
    "scrolled": true
   },
   "outputs": [
    {
     "name": "stdout",
     "output_type": "stream",
     "text": [
      "54.66.253.144\n",
      "103.243.183.250\n",
      "185.82.126.47\n",
      "94.156.174.121\n"
     ]
    }
   ],
   "source": [
    "# Iterate over the \"Host\" column\n",
    "for i, row in df.iterrows():\n",
    "    print(row['Host'])"
   ]
  },
  {
   "cell_type": "markdown",
   "metadata": {},
   "source": [
    "### Save Iteration Results"
   ]
  },
  {
   "cell_type": "code",
   "execution_count": 12,
   "metadata": {},
   "outputs": [
    {
     "name": "stdout",
     "output_type": "stream",
     "text": [
      "['54.66.253.144', '103.243.183.250', '185.82.126.47', '94.156.174.121']\n"
     ]
    }
   ],
   "source": [
    "# Save the results from the above iteration on the \"Host\" column to a new variable named \"ip_list\"\n",
    "ip_list = []\n",
    "for i, row in df.iterrows():\n",
    "    my_list = (row['Host'])\n",
    "    ip_list.append(my_list)\n",
    "print(ip_list)"
   ]
  },
  {
   "cell_type": "markdown",
   "metadata": {},
   "source": [
    "## Enrich Data"
   ]
  },
  {
   "cell_type": "markdown",
   "metadata": {},
   "source": [
    "The IP addresses by themselves are not as useful. We will use a free service (ipapi[.]co) to pull intelligence on the IP addresses such as their geo-location, ASN, and hosting provider."
   ]
  },
  {
   "cell_type": "code",
   "execution_count": 13,
   "metadata": {},
   "outputs": [],
   "source": [
    "# create an empty list to store results\n",
    "ip_res_result = []\n",
    "\n",
    "# iterate each IP in the \"ip_list\" that was created earlier and enrich each IP using the ipapi library\n",
    "for ip in ip_list:\n",
    "    try:\n",
    "        ip_res_result.append((ipapi.location(ip)))\n",
    "        time.sleep(5)\n",
    "    except Exception as e:\n",
    "        ip_res_result.append(e)"
   ]
  },
  {
   "cell_type": "code",
   "execution_count": 15,
   "metadata": {},
   "outputs": [
    {
     "data": {
      "text/plain": [
       "[{'asn': 'AS16509',\n",
       "  'city': 'Sydney',\n",
       "  'continent_code': 'OC',\n",
       "  'country': 'AU',\n",
       "  'country_area': 7686850.0,\n",
       "  'country_calling_code': '+61',\n",
       "  'country_capital': 'Canberra',\n",
       "  'country_code': 'AU',\n",
       "  'country_code_iso3': 'AUS',\n",
       "  'country_name': 'Australia',\n",
       "  'country_population': 24992369.0,\n",
       "  'country_tld': '.au',\n",
       "  'currency': 'AUD',\n",
       "  'currency_name': 'Dollar',\n",
       "  'in_eu': False,\n",
       "  'ip': '54.66.253.144',\n",
       "  'languages': 'en-AU',\n",
       "  'latitude': -33.8591,\n",
       "  'longitude': 151.2002,\n",
       "  'org': 'AMAZON-02',\n",
       "  'postal': '2000',\n",
       "  'region': 'New South Wales',\n",
       "  'region_code': 'NSW',\n",
       "  'timezone': 'Australia/Sydney',\n",
       "  'utc_offset': '+1000',\n",
       "  'version': 'IPv4'},\n",
       " {'asn': 'AS133115',\n",
       "  'city': 'Kwai Chung',\n",
       "  'continent_code': 'AS',\n",
       "  'country': 'HK',\n",
       "  'country_area': 1092.0,\n",
       "  'country_calling_code': '+852',\n",
       "  'country_capital': 'Hong Kong',\n",
       "  'country_code': 'HK',\n",
       "  'country_code_iso3': 'HKG',\n",
       "  'country_name': 'Hong Kong',\n",
       "  'country_population': 7451000.0,\n",
       "  'country_tld': '.hk',\n",
       "  'currency': 'HKD',\n",
       "  'currency_name': 'Dollar',\n",
       "  'in_eu': False,\n",
       "  'ip': '103.243.183.250',\n",
       "  'languages': 'zh-HK,yue,zh,en',\n",
       "  'latitude': None,\n",
       "  'longitude': None,\n",
       "  'org': 'HK Kwaifong Group Limited',\n",
       "  'postal': None,\n",
       "  'region': 'Tsuen Wan',\n",
       "  'region_code': None,\n",
       "  'timezone': None,\n",
       "  'utc_offset': None,\n",
       "  'version': 'IPv4'},\n",
       " {'asn': 'AS52173',\n",
       "  'city': 'Riga',\n",
       "  'continent_code': 'EU',\n",
       "  'country': 'LV',\n",
       "  'country_area': 64589.0,\n",
       "  'country_calling_code': '+371',\n",
       "  'country_capital': 'Riga',\n",
       "  'country_code': 'LV',\n",
       "  'country_code_iso3': 'LVA',\n",
       "  'country_name': 'Latvia',\n",
       "  'country_population': 1926542.0,\n",
       "  'country_tld': '.lv',\n",
       "  'currency': 'EUR',\n",
       "  'currency_name': 'Euro',\n",
       "  'in_eu': True,\n",
       "  'ip': '185.82.126.47',\n",
       "  'languages': 'lv,ru,lt',\n",
       "  'latitude': 56.9496,\n",
       "  'longitude': 24.0978,\n",
       "  'org': 'Sia Nano IT',\n",
       "  'postal': 'LV-1058',\n",
       "  'region': 'Riga',\n",
       "  'region_code': 'RIX',\n",
       "  'timezone': 'Europe/Riga',\n",
       "  'utc_offset': '+0300',\n",
       "  'version': 'IPv4'},\n",
       " {'asn': 'AS44901',\n",
       "  'city': 'Sofia',\n",
       "  'continent_code': 'EU',\n",
       "  'country': 'BG',\n",
       "  'country_area': 110910.0,\n",
       "  'country_calling_code': '+359',\n",
       "  'country_capital': 'Sofia',\n",
       "  'country_code': 'BG',\n",
       "  'country_code_iso3': 'BGR',\n",
       "  'country_name': 'Bulgaria',\n",
       "  'country_population': 7000039.0,\n",
       "  'country_tld': '.bg',\n",
       "  'currency': 'BGN',\n",
       "  'currency_name': 'Lev',\n",
       "  'in_eu': True,\n",
       "  'ip': '94.156.174.121',\n",
       "  'languages': 'bg,tr-BG,rom',\n",
       "  'latitude': 42.697708,\n",
       "  'longitude': 23.321868,\n",
       "  'org': 'Belcloud LTD',\n",
       "  'postal': None,\n",
       "  'region': 'Sofia-grad',\n",
       "  'region_code': None,\n",
       "  'timezone': None,\n",
       "  'utc_offset': None,\n",
       "  'version': 'IPv4'}]"
      ]
     },
     "execution_count": 15,
     "metadata": {},
     "output_type": "execute_result"
    }
   ],
   "source": [
    "# print results of the \"ip_res_result\" which now contains enriched data in json format\n",
    "ip_res_result"
   ]
  },
  {
   "cell_type": "markdown",
   "metadata": {},
   "source": [
    "# JSON to Pandas Dataframe\n",
    "\n",
    "The \"ip_res_result\" list contains data in JSON format. We need to convert it to Pandas dataframe"
   ]
  },
  {
   "cell_type": "code",
   "execution_count": 18,
   "metadata": {},
   "outputs": [],
   "source": [
    "# convert json list to Pandas Dataframe \"df_json\"\n",
    "df_json = pd.DataFrame.from_records(ip_res_result)\n",
    "#https://stackoverflow.com/questions/48687857/python-json-list-to-pandas-dataframe"
   ]
  },
  {
   "cell_type": "code",
   "execution_count": 19,
   "metadata": {
    "scrolled": false
   },
   "outputs": [
    {
     "data": {
      "text/html": [
       "<div>\n",
       "<style scoped>\n",
       "    .dataframe tbody tr th:only-of-type {\n",
       "        vertical-align: middle;\n",
       "    }\n",
       "\n",
       "    .dataframe tbody tr th {\n",
       "        vertical-align: top;\n",
       "    }\n",
       "\n",
       "    .dataframe thead th {\n",
       "        text-align: right;\n",
       "    }\n",
       "</style>\n",
       "<table border=\"1\" class=\"dataframe\">\n",
       "  <thead>\n",
       "    <tr style=\"text-align: right;\">\n",
       "      <th></th>\n",
       "      <th>asn</th>\n",
       "      <th>city</th>\n",
       "      <th>continent_code</th>\n",
       "      <th>country</th>\n",
       "      <th>country_area</th>\n",
       "      <th>country_calling_code</th>\n",
       "      <th>country_capital</th>\n",
       "      <th>country_code</th>\n",
       "      <th>country_code_iso3</th>\n",
       "      <th>country_name</th>\n",
       "      <th>...</th>\n",
       "      <th>languages</th>\n",
       "      <th>latitude</th>\n",
       "      <th>longitude</th>\n",
       "      <th>org</th>\n",
       "      <th>postal</th>\n",
       "      <th>region</th>\n",
       "      <th>region_code</th>\n",
       "      <th>timezone</th>\n",
       "      <th>utc_offset</th>\n",
       "      <th>version</th>\n",
       "    </tr>\n",
       "  </thead>\n",
       "  <tbody>\n",
       "    <tr>\n",
       "      <th>0</th>\n",
       "      <td>AS16509</td>\n",
       "      <td>Sydney</td>\n",
       "      <td>OC</td>\n",
       "      <td>AU</td>\n",
       "      <td>7686850.0</td>\n",
       "      <td>+61</td>\n",
       "      <td>Canberra</td>\n",
       "      <td>AU</td>\n",
       "      <td>AUS</td>\n",
       "      <td>Australia</td>\n",
       "      <td>...</td>\n",
       "      <td>en-AU</td>\n",
       "      <td>-33.859100</td>\n",
       "      <td>151.200200</td>\n",
       "      <td>AMAZON-02</td>\n",
       "      <td>2000</td>\n",
       "      <td>New South Wales</td>\n",
       "      <td>NSW</td>\n",
       "      <td>Australia/Sydney</td>\n",
       "      <td>+1000</td>\n",
       "      <td>IPv4</td>\n",
       "    </tr>\n",
       "    <tr>\n",
       "      <th>1</th>\n",
       "      <td>AS133115</td>\n",
       "      <td>Kwai Chung</td>\n",
       "      <td>AS</td>\n",
       "      <td>HK</td>\n",
       "      <td>1092.0</td>\n",
       "      <td>+852</td>\n",
       "      <td>Hong Kong</td>\n",
       "      <td>HK</td>\n",
       "      <td>HKG</td>\n",
       "      <td>Hong Kong</td>\n",
       "      <td>...</td>\n",
       "      <td>zh-HK,yue,zh,en</td>\n",
       "      <td>NaN</td>\n",
       "      <td>NaN</td>\n",
       "      <td>HK Kwaifong Group Limited</td>\n",
       "      <td>None</td>\n",
       "      <td>Tsuen Wan</td>\n",
       "      <td>None</td>\n",
       "      <td>None</td>\n",
       "      <td>None</td>\n",
       "      <td>IPv4</td>\n",
       "    </tr>\n",
       "    <tr>\n",
       "      <th>2</th>\n",
       "      <td>AS52173</td>\n",
       "      <td>Riga</td>\n",
       "      <td>EU</td>\n",
       "      <td>LV</td>\n",
       "      <td>64589.0</td>\n",
       "      <td>+371</td>\n",
       "      <td>Riga</td>\n",
       "      <td>LV</td>\n",
       "      <td>LVA</td>\n",
       "      <td>Latvia</td>\n",
       "      <td>...</td>\n",
       "      <td>lv,ru,lt</td>\n",
       "      <td>56.949600</td>\n",
       "      <td>24.097800</td>\n",
       "      <td>Sia Nano IT</td>\n",
       "      <td>LV-1058</td>\n",
       "      <td>Riga</td>\n",
       "      <td>RIX</td>\n",
       "      <td>Europe/Riga</td>\n",
       "      <td>+0300</td>\n",
       "      <td>IPv4</td>\n",
       "    </tr>\n",
       "    <tr>\n",
       "      <th>3</th>\n",
       "      <td>AS44901</td>\n",
       "      <td>Sofia</td>\n",
       "      <td>EU</td>\n",
       "      <td>BG</td>\n",
       "      <td>110910.0</td>\n",
       "      <td>+359</td>\n",
       "      <td>Sofia</td>\n",
       "      <td>BG</td>\n",
       "      <td>BGR</td>\n",
       "      <td>Bulgaria</td>\n",
       "      <td>...</td>\n",
       "      <td>bg,tr-BG,rom</td>\n",
       "      <td>42.697708</td>\n",
       "      <td>23.321868</td>\n",
       "      <td>Belcloud LTD</td>\n",
       "      <td>None</td>\n",
       "      <td>Sofia-grad</td>\n",
       "      <td>None</td>\n",
       "      <td>None</td>\n",
       "      <td>None</td>\n",
       "      <td>IPv4</td>\n",
       "    </tr>\n",
       "  </tbody>\n",
       "</table>\n",
       "<p>4 rows × 26 columns</p>\n",
       "</div>"
      ],
      "text/plain": [
       "        asn        city continent_code country  country_area  \\\n",
       "0   AS16509      Sydney             OC      AU     7686850.0   \n",
       "1  AS133115  Kwai Chung             AS      HK        1092.0   \n",
       "2   AS52173        Riga             EU      LV       64589.0   \n",
       "3   AS44901       Sofia             EU      BG      110910.0   \n",
       "\n",
       "  country_calling_code country_capital country_code country_code_iso3  \\\n",
       "0                  +61        Canberra           AU               AUS   \n",
       "1                 +852       Hong Kong           HK               HKG   \n",
       "2                 +371            Riga           LV               LVA   \n",
       "3                 +359           Sofia           BG               BGR   \n",
       "\n",
       "  country_name  ...        languages   latitude   longitude  \\\n",
       "0    Australia  ...            en-AU -33.859100  151.200200   \n",
       "1    Hong Kong  ...  zh-HK,yue,zh,en        NaN         NaN   \n",
       "2       Latvia  ...         lv,ru,lt  56.949600   24.097800   \n",
       "3     Bulgaria  ...     bg,tr-BG,rom  42.697708   23.321868   \n",
       "\n",
       "                         org   postal           region region_code  \\\n",
       "0                  AMAZON-02     2000  New South Wales         NSW   \n",
       "1  HK Kwaifong Group Limited     None        Tsuen Wan        None   \n",
       "2                Sia Nano IT  LV-1058             Riga         RIX   \n",
       "3               Belcloud LTD     None       Sofia-grad        None   \n",
       "\n",
       "           timezone  utc_offset version  \n",
       "0  Australia/Sydney       +1000    IPv4  \n",
       "1              None        None    IPv4  \n",
       "2       Europe/Riga       +0300    IPv4  \n",
       "3              None        None    IPv4  \n",
       "\n",
       "[4 rows x 26 columns]"
      ]
     },
     "execution_count": 19,
     "metadata": {},
     "output_type": "execute_result"
    }
   ],
   "source": [
    "# print the contents of the \"df_json\" which now contains the earlier JSON data as a dataframe\n",
    "df_json"
   ]
  },
  {
   "cell_type": "markdown",
   "metadata": {},
   "source": [
    "# Data Exploration\n",
    "\n",
    "Basic exploration of the new dataframe \"df_json\""
   ]
  },
  {
   "cell_type": "code",
   "execution_count": 22,
   "metadata": {
    "scrolled": true
   },
   "outputs": [
    {
     "name": "stdout",
     "output_type": "stream",
     "text": [
      "<class 'pandas.core.frame.DataFrame'>\n",
      "RangeIndex: 4 entries, 0 to 3\n",
      "Data columns (total 26 columns):\n",
      "asn                     4 non-null object\n",
      "city                    4 non-null object\n",
      "continent_code          4 non-null object\n",
      "country                 4 non-null object\n",
      "country_area            4 non-null float64\n",
      "country_calling_code    4 non-null object\n",
      "country_capital         4 non-null object\n",
      "country_code            4 non-null object\n",
      "country_code_iso3       4 non-null object\n",
      "country_name            4 non-null object\n",
      "country_population      4 non-null float64\n",
      "country_tld             4 non-null object\n",
      "currency                4 non-null object\n",
      "currency_name           4 non-null object\n",
      "in_eu                   4 non-null bool\n",
      "ip                      4 non-null object\n",
      "languages               4 non-null object\n",
      "latitude                3 non-null float64\n",
      "longitude               3 non-null float64\n",
      "org                     4 non-null object\n",
      "postal                  2 non-null object\n",
      "region                  4 non-null object\n",
      "region_code             2 non-null object\n",
      "timezone                2 non-null object\n",
      "utc_offset              2 non-null object\n",
      "version                 4 non-null object\n",
      "dtypes: bool(1), float64(4), object(21)\n",
      "memory usage: 532.0+ bytes\n"
     ]
    }
   ],
   "source": [
    "# basic information of the data such as total columns, total entries, data types\n",
    "df_json.info()"
   ]
  },
  {
   "cell_type": "code",
   "execution_count": 23,
   "metadata": {},
   "outputs": [
    {
     "data": {
      "text/plain": [
       "Index(['asn', 'city', 'continent_code', 'country', 'country_area',\n",
       "       'country_calling_code', 'country_capital', 'country_code',\n",
       "       'country_code_iso3', 'country_name', 'country_population',\n",
       "       'country_tld', 'currency', 'currency_name', 'in_eu', 'ip', 'languages',\n",
       "       'latitude', 'longitude', 'org', 'postal', 'region', 'region_code',\n",
       "       'timezone', 'utc_offset', 'version'],\n",
       "      dtype='object')"
      ]
     },
     "execution_count": 23,
     "metadata": {},
     "output_type": "execute_result"
    }
   ],
   "source": [
    "# read just headers\n",
    "\n",
    "df_json.columns"
   ]
  }
 ],
 "metadata": {
  "kernelspec": {
   "display_name": "Python 3",
   "language": "python",
   "name": "python3"
  },
  "language_info": {
   "codemirror_mode": {
    "name": "ipython",
    "version": 3
   },
   "file_extension": ".py",
   "mimetype": "text/x-python",
   "name": "python",
   "nbconvert_exporter": "python",
   "pygments_lexer": "ipython3",
   "version": "3.5.3"
  }
 },
 "nbformat": 4,
 "nbformat_minor": 4
}
