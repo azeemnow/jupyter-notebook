{
 "cells": [
  {
   "cell_type": "markdown",
   "metadata": {},
   "source": [
    "# Jupyter Notebook for Cybersecurity - Part 1/5"
   ]
  },
  {
   "cell_type": "markdown",
   "metadata": {},
   "source": [
    "Jupter Notebook is an open interactive tool for large-scale data exploration, transformation, analysis, and visualization. It is built on Jupyter (formerly IPython) and is similar to Google Cloud's Datalab.\n"
   ]
  },
  {
   "cell_type": "markdown",
   "metadata": {},
   "source": [
    "The data set used in this Jupyter Notebook is the **CobaltStrike_Hunting Google Doc** The sheet named **Cobalt Strike -Te-k research 2020** was downloaded and saved locally as a CSV file. \n",
    "\n",
    "Link to the Google Doc Sheet is: https://docs.google.com/spreadsheets/d/1bYvBh6NkNYGstfQWnT5n7cSxdhjSn1mduX8cziWSGrw/edit#gid=516128248"
   ]
  },
  {
   "cell_type": "markdown",
   "metadata": {},
   "source": [
    "# Getting Started"
   ]
  },
  {
   "cell_type": "markdown",
   "metadata": {},
   "source": [
    "## Install Libraries\n",
    "\n",
    "First step: in your computer's command prompt enter the following two commands to install the pandas and matplotlib libraries: "
   ]
  },
  {
   "cell_type": "raw",
   "metadata": {},
   "source": [
    "pip3 install pandas\n",
    "pip3 install matplotlib"
   ]
  },
  {
   "cell_type": "markdown",
   "metadata": {},
   "source": [
    "Note: \"Pip3\" is a version of the pip installer for python3"
   ]
  },
  {
   "cell_type": "markdown",
   "metadata": {},
   "source": [
    "## Import Libraries\n",
    "\n",
    "Second Step: import the above installed libraries in your Jupyter Notebook"
   ]
  },
  {
   "cell_type": "code",
   "execution_count": 3,
   "metadata": {},
   "outputs": [],
   "source": [
    "import pandas as pd\n",
    "# data analysis and manipulation tool\n",
    "\n",
    "import numpy as np\n",
    "# mathematical functions\n",
    "\n",
    "import matplotlib.pyplot as plt\n",
    "#creating static, animated, and interactive visualizations\n",
    "\n",
    "%matplotlib inline\n",
    "# renders static images \n",
    "\n",
    "%matplotlib notebook\n",
    "# renders dynamic interactive images "
   ]
  },
  {
   "cell_type": "markdown",
   "metadata": {},
   "source": [
    "## Load  Data\n",
    "\n",
    "The third and last step in Getting Started is to load your raw data. This is much easier if you have your raw data saved in the same directory where you are running Jupyter Notebook from."
   ]
  },
  {
   "cell_type": "code",
   "execution_count": 5,
   "metadata": {},
   "outputs": [],
   "source": [
    "df = pd.read_csv('cb_servers_small.csv')\n"
   ]
  },
  {
   "cell_type": "markdown",
   "metadata": {},
   "source": [
    "### Confirm a Successful Data Load"
   ]
  },
  {
   "cell_type": "code",
   "execution_count": 6,
   "metadata": {
    "scrolled": true
   },
   "outputs": [
    {
     "name": "stdout",
     "output_type": "stream",
     "text": [
      "              Host   SSL  Port  \\\n",
      "0    54.66.253.144  True   443   \n",
      "1  103.243.183.250  True   443   \n",
      "2    185.82.126.47  True   443   \n",
      "\n",
      "                                             GET uri  \\\n",
      "0  54.66.253.144,/s/ref=nb_sb_noss_1/167-3294888-...   \n",
      "1                         103.243.183.250,/search.js   \n",
      "2                               185.82.126.47,/pixel   \n",
      "\n",
      "                    POST uri  \\\n",
      "0  /N4215/adj/amzn.us.sr.aps   \n",
      "1                        /hr   \n",
      "2                /submit.php   \n",
      "\n",
      "                                          User Agent  Watermark  \n",
      "0  Mozilla/5.0 (Windows NT 6.1; WOW64; Trident/7....  562884990  \n",
      "1  Mozilla/5.0 (Linux; Android 6.0; HTC One X10 B...  305419896  \n",
      "2  Mozilla/5.0 (compatible; MSIE 9.0; Windows NT ...  305419896  \n"
     ]
    }
   ],
   "source": [
    "#print just the top (x) rows\n",
    "print(df.head(3))"
   ]
  },
  {
   "cell_type": "code",
   "execution_count": 7,
   "metadata": {
    "scrolled": true
   },
   "outputs": [
    {
     "name": "stdout",
     "output_type": "stream",
     "text": [
      "              Host   SSL  Port                     GET uri     POST uri  \\\n",
      "1  103.243.183.250  True   443  103.243.183.250,/search.js          /hr   \n",
      "2    185.82.126.47  True   443        185.82.126.47,/pixel  /submit.php   \n",
      "3   94.156.174.121  True   443       94.156.174.121,/watch   /ptracking   \n",
      "\n",
      "                                          User Agent  Watermark  \n",
      "1  Mozilla/5.0 (Linux; Android 6.0; HTC One X10 B...  305419896  \n",
      "2  Mozilla/5.0 (compatible; MSIE 9.0; Windows NT ...  305419896  \n",
      "3  Mozilla/5.0 (Windows NT 6.1) AppleWebKit/537.3...   76803050  \n"
     ]
    }
   ],
   "source": [
    "#print just the bottom (x) rows\n",
    "print(df.tail(3))"
   ]
  },
  {
   "cell_type": "markdown",
   "metadata": {},
   "source": [
    "# Data Exploration\n",
    "\n",
    "Exploratory Data Analysis: understanding the data at a high-level and summarize its main characteristics"
   ]
  },
  {
   "cell_type": "code",
   "execution_count": 8,
   "metadata": {
    "scrolled": true
   },
   "outputs": [
    {
     "data": {
      "text/html": [
       "<div>\n",
       "<style scoped>\n",
       "    .dataframe tbody tr th:only-of-type {\n",
       "        vertical-align: middle;\n",
       "    }\n",
       "\n",
       "    .dataframe tbody tr th {\n",
       "        vertical-align: top;\n",
       "    }\n",
       "\n",
       "    .dataframe thead th {\n",
       "        text-align: right;\n",
       "    }\n",
       "</style>\n",
       "<table border=\"1\" class=\"dataframe\">\n",
       "  <thead>\n",
       "    <tr style=\"text-align: right;\">\n",
       "      <th></th>\n",
       "      <th>Host</th>\n",
       "      <th>SSL</th>\n",
       "      <th>Port</th>\n",
       "      <th>GET uri</th>\n",
       "      <th>POST uri</th>\n",
       "      <th>User Agent</th>\n",
       "      <th>Watermark</th>\n",
       "    </tr>\n",
       "  </thead>\n",
       "  <tbody>\n",
       "    <tr>\n",
       "      <th>0</th>\n",
       "      <td>54.66.253.144</td>\n",
       "      <td>True</td>\n",
       "      <td>443</td>\n",
       "      <td>54.66.253.144,/s/ref=nb_sb_noss_1/167-3294888-...</td>\n",
       "      <td>/N4215/adj/amzn.us.sr.aps</td>\n",
       "      <td>Mozilla/5.0 (Windows NT 6.1; WOW64; Trident/7....</td>\n",
       "      <td>562884990</td>\n",
       "    </tr>\n",
       "    <tr>\n",
       "      <th>1</th>\n",
       "      <td>103.243.183.250</td>\n",
       "      <td>True</td>\n",
       "      <td>443</td>\n",
       "      <td>103.243.183.250,/search.js</td>\n",
       "      <td>/hr</td>\n",
       "      <td>Mozilla/5.0 (Linux; Android 6.0; HTC One X10 B...</td>\n",
       "      <td>305419896</td>\n",
       "    </tr>\n",
       "    <tr>\n",
       "      <th>2</th>\n",
       "      <td>185.82.126.47</td>\n",
       "      <td>True</td>\n",
       "      <td>443</td>\n",
       "      <td>185.82.126.47,/pixel</td>\n",
       "      <td>/submit.php</td>\n",
       "      <td>Mozilla/5.0 (compatible; MSIE 9.0; Windows NT ...</td>\n",
       "      <td>305419896</td>\n",
       "    </tr>\n",
       "    <tr>\n",
       "      <th>3</th>\n",
       "      <td>94.156.174.121</td>\n",
       "      <td>True</td>\n",
       "      <td>443</td>\n",
       "      <td>94.156.174.121,/watch</td>\n",
       "      <td>/ptracking</td>\n",
       "      <td>Mozilla/5.0 (Windows NT 6.1) AppleWebKit/537.3...</td>\n",
       "      <td>76803050</td>\n",
       "    </tr>\n",
       "  </tbody>\n",
       "</table>\n",
       "</div>"
      ],
      "text/plain": [
       "              Host   SSL  Port  \\\n",
       "0    54.66.253.144  True   443   \n",
       "1  103.243.183.250  True   443   \n",
       "2    185.82.126.47  True   443   \n",
       "3   94.156.174.121  True   443   \n",
       "\n",
       "                                             GET uri  \\\n",
       "0  54.66.253.144,/s/ref=nb_sb_noss_1/167-3294888-...   \n",
       "1                         103.243.183.250,/search.js   \n",
       "2                               185.82.126.47,/pixel   \n",
       "3                              94.156.174.121,/watch   \n",
       "\n",
       "                    POST uri  \\\n",
       "0  /N4215/adj/amzn.us.sr.aps   \n",
       "1                        /hr   \n",
       "2                /submit.php   \n",
       "3                 /ptracking   \n",
       "\n",
       "                                          User Agent  Watermark  \n",
       "0  Mozilla/5.0 (Windows NT 6.1; WOW64; Trident/7....  562884990  \n",
       "1  Mozilla/5.0 (Linux; Android 6.0; HTC One X10 B...  305419896  \n",
       "2  Mozilla/5.0 (compatible; MSIE 9.0; Windows NT ...  305419896  \n",
       "3  Mozilla/5.0 (Windows NT 6.1) AppleWebKit/537.3...   76803050  "
      ]
     },
     "execution_count": 8,
     "metadata": {},
     "output_type": "execute_result"
    }
   ],
   "source": [
    "# quick snapshot of the dataset\n",
    "df.head()"
   ]
  },
  {
   "cell_type": "code",
   "execution_count": 9,
   "metadata": {
    "scrolled": true
   },
   "outputs": [
    {
     "name": "stdout",
     "output_type": "stream",
     "text": [
      "<class 'pandas.core.frame.DataFrame'>\n",
      "RangeIndex: 4 entries, 0 to 3\n",
      "Data columns (total 7 columns):\n",
      "Host          4 non-null object\n",
      "SSL           4 non-null bool\n",
      "Port          4 non-null int64\n",
      "GET uri       4 non-null object\n",
      "POST uri      4 non-null object\n",
      "User Agent    4 non-null object\n",
      "Watermark     4 non-null int64\n",
      "dtypes: bool(1), int64(2), object(4)\n",
      "memory usage: 196.0+ bytes\n"
     ]
    }
   ],
   "source": [
    "#basic information of the data such as total columns, total entries, data types\n",
    "df.info()"
   ]
  },
  {
   "cell_type": "code",
   "execution_count": 10,
   "metadata": {},
   "outputs": [
    {
     "data": {
      "text/html": [
       "<div>\n",
       "<style scoped>\n",
       "    .dataframe tbody tr th:only-of-type {\n",
       "        vertical-align: middle;\n",
       "    }\n",
       "\n",
       "    .dataframe tbody tr th {\n",
       "        vertical-align: top;\n",
       "    }\n",
       "\n",
       "    .dataframe thead th {\n",
       "        text-align: right;\n",
       "    }\n",
       "</style>\n",
       "<table border=\"1\" class=\"dataframe\">\n",
       "  <thead>\n",
       "    <tr style=\"text-align: right;\">\n",
       "      <th></th>\n",
       "      <th>Port</th>\n",
       "      <th>Watermark</th>\n",
       "    </tr>\n",
       "  </thead>\n",
       "  <tbody>\n",
       "    <tr>\n",
       "      <th>count</th>\n",
       "      <td>4.0</td>\n",
       "      <td>4.000000e+00</td>\n",
       "    </tr>\n",
       "    <tr>\n",
       "      <th>mean</th>\n",
       "      <td>443.0</td>\n",
       "      <td>3.126320e+08</td>\n",
       "    </tr>\n",
       "    <tr>\n",
       "      <th>std</th>\n",
       "      <td>0.0</td>\n",
       "      <td>1.986168e+08</td>\n",
       "    </tr>\n",
       "    <tr>\n",
       "      <th>min</th>\n",
       "      <td>443.0</td>\n",
       "      <td>7.680305e+07</td>\n",
       "    </tr>\n",
       "    <tr>\n",
       "      <th>25%</th>\n",
       "      <td>443.0</td>\n",
       "      <td>2.482657e+08</td>\n",
       "    </tr>\n",
       "    <tr>\n",
       "      <th>50%</th>\n",
       "      <td>443.0</td>\n",
       "      <td>3.054199e+08</td>\n",
       "    </tr>\n",
       "    <tr>\n",
       "      <th>75%</th>\n",
       "      <td>443.0</td>\n",
       "      <td>3.697862e+08</td>\n",
       "    </tr>\n",
       "    <tr>\n",
       "      <th>max</th>\n",
       "      <td>443.0</td>\n",
       "      <td>5.628850e+08</td>\n",
       "    </tr>\n",
       "  </tbody>\n",
       "</table>\n",
       "</div>"
      ],
      "text/plain": [
       "        Port     Watermark\n",
       "count    4.0  4.000000e+00\n",
       "mean   443.0  3.126320e+08\n",
       "std      0.0  1.986168e+08\n",
       "min    443.0  7.680305e+07\n",
       "25%    443.0  2.482657e+08\n",
       "50%    443.0  3.054199e+08\n",
       "75%    443.0  3.697862e+08\n",
       "max    443.0  5.628850e+08"
      ]
     },
     "execution_count": 10,
     "metadata": {},
     "output_type": "execute_result"
    }
   ],
   "source": [
    "# print statistical values of applicable columns.\n",
    "## not meaningful in this current dataset\n",
    "df.describe()"
   ]
  },
  {
   "cell_type": "code",
   "execution_count": 16,
   "metadata": {},
   "outputs": [
    {
     "data": {
      "text/plain": [
       "Index(['Host', 'SSL', 'Port', 'GET uri', 'POST uri', 'User Agent',\n",
       "       'Watermark'],\n",
       "      dtype='object')"
      ]
     },
     "execution_count": 16,
     "metadata": {},
     "output_type": "execute_result"
    }
   ],
   "source": [
    "#read just headers\n",
    "\n",
    "df.columns"
   ]
  },
  {
   "cell_type": "markdown",
   "metadata": {},
   "source": [
    "## Closer Look at Specifc Data Values"
   ]
  },
  {
   "cell_type": "code",
   "execution_count": 11,
   "metadata": {
    "scrolled": false
   },
   "outputs": [
    {
     "data": {
      "text/plain": [
       "0        54.66.253.144\n",
       "1      103.243.183.250\n",
       "2        185.82.126.47\n",
       "3       94.156.174.121\n",
       "4       194.36.191.118\n",
       "            ...       \n",
       "517    167.179.105.132\n",
       "518       23.106.160.2\n",
       "519      103.143.28.25\n",
       "520      98.142.141.43\n",
       "521        146.0.72.91\n",
       "Name: Host, Length: 522, dtype: object"
      ]
     },
     "execution_count": 11,
     "metadata": {},
     "output_type": "execute_result"
    }
   ],
   "source": [
    "# read a specific column\n",
    "\n",
    "df['Host']"
   ]
  },
  {
   "cell_type": "code",
   "execution_count": 12,
   "metadata": {
    "scrolled": false
   },
   "outputs": [
    {
     "data": {
      "text/html": [
       "<div>\n",
       "<style scoped>\n",
       "    .dataframe tbody tr th:only-of-type {\n",
       "        vertical-align: middle;\n",
       "    }\n",
       "\n",
       "    .dataframe tbody tr th {\n",
       "        vertical-align: top;\n",
       "    }\n",
       "\n",
       "    .dataframe thead th {\n",
       "        text-align: right;\n",
       "    }\n",
       "</style>\n",
       "<table border=\"1\" class=\"dataframe\">\n",
       "  <thead>\n",
       "    <tr style=\"text-align: right;\">\n",
       "      <th></th>\n",
       "      <th>Host</th>\n",
       "      <th>User Agent</th>\n",
       "    </tr>\n",
       "  </thead>\n",
       "  <tbody>\n",
       "    <tr>\n",
       "      <th>0</th>\n",
       "      <td>54.66.253.144</td>\n",
       "      <td>Mozilla/5.0 (Windows NT 6.1; WOW64; Trident/7....</td>\n",
       "    </tr>\n",
       "    <tr>\n",
       "      <th>1</th>\n",
       "      <td>103.243.183.250</td>\n",
       "      <td>Mozilla/5.0 (Linux; Android 6.0; HTC One X10 B...</td>\n",
       "    </tr>\n",
       "    <tr>\n",
       "      <th>2</th>\n",
       "      <td>185.82.126.47</td>\n",
       "      <td>Mozilla/5.0 (compatible; MSIE 9.0; Windows NT ...</td>\n",
       "    </tr>\n",
       "    <tr>\n",
       "      <th>3</th>\n",
       "      <td>94.156.174.121</td>\n",
       "      <td>Mozilla/5.0 (Windows NT 6.1) AppleWebKit/537.3...</td>\n",
       "    </tr>\n",
       "  </tbody>\n",
       "</table>\n",
       "</div>"
      ],
      "text/plain": [
       "              Host                                         User Agent\n",
       "0    54.66.253.144  Mozilla/5.0 (Windows NT 6.1; WOW64; Trident/7....\n",
       "1  103.243.183.250  Mozilla/5.0 (Linux; Android 6.0; HTC One X10 B...\n",
       "2    185.82.126.47  Mozilla/5.0 (compatible; MSIE 9.0; Windows NT ...\n",
       "3   94.156.174.121  Mozilla/5.0 (Windows NT 6.1) AppleWebKit/537.3..."
      ]
     },
     "execution_count": 12,
     "metadata": {},
     "output_type": "execute_result"
    }
   ],
   "source": [
    "# read specific columns\n",
    "df[['Host', 'User Agent']]"
   ]
  },
  {
   "cell_type": "code",
   "execution_count": 13,
   "metadata": {
    "scrolled": false
   },
   "outputs": [
    {
     "data": {
      "text/plain": [
       "Host                                              185.82.126.47\n",
       "SSL                                                        True\n",
       "Port                                                        443\n",
       "GET uri                                    185.82.126.47,/pixel\n",
       "POST uri                                            /submit.php\n",
       "User Agent    Mozilla/5.0 (compatible; MSIE 9.0; Windows NT ...\n",
       "Watermark                                             305419896\n",
       "Name: 2, dtype: object"
      ]
     },
     "execution_count": 13,
     "metadata": {},
     "output_type": "execute_result"
    }
   ],
   "source": [
    "# read specific row number\n",
    "(df.iloc[2])"
   ]
  },
  {
   "cell_type": "code",
   "execution_count": 14,
   "metadata": {
    "scrolled": true
   },
   "outputs": [
    {
     "data": {
      "text/html": [
       "<div>\n",
       "<style scoped>\n",
       "    .dataframe tbody tr th:only-of-type {\n",
       "        vertical-align: middle;\n",
       "    }\n",
       "\n",
       "    .dataframe tbody tr th {\n",
       "        vertical-align: top;\n",
       "    }\n",
       "\n",
       "    .dataframe thead th {\n",
       "        text-align: right;\n",
       "    }\n",
       "</style>\n",
       "<table border=\"1\" class=\"dataframe\">\n",
       "  <thead>\n",
       "    <tr style=\"text-align: right;\">\n",
       "      <th></th>\n",
       "      <th>Host</th>\n",
       "      <th>SSL</th>\n",
       "      <th>Port</th>\n",
       "      <th>GET uri</th>\n",
       "      <th>POST uri</th>\n",
       "      <th>User Agent</th>\n",
       "      <th>Watermark</th>\n",
       "    </tr>\n",
       "  </thead>\n",
       "  <tbody>\n",
       "    <tr>\n",
       "      <th>2</th>\n",
       "      <td>185.82.126.47</td>\n",
       "      <td>True</td>\n",
       "      <td>443</td>\n",
       "      <td>185.82.126.47,/pixel</td>\n",
       "      <td>/submit.php</td>\n",
       "      <td>Mozilla/5.0 (compatible; MSIE 9.0; Windows NT ...</td>\n",
       "      <td>305419896</td>\n",
       "    </tr>\n",
       "    <tr>\n",
       "      <th>3</th>\n",
       "      <td>94.156.174.121</td>\n",
       "      <td>True</td>\n",
       "      <td>443</td>\n",
       "      <td>94.156.174.121,/watch</td>\n",
       "      <td>/ptracking</td>\n",
       "      <td>Mozilla/5.0 (Windows NT 6.1) AppleWebKit/537.3...</td>\n",
       "      <td>76803050</td>\n",
       "    </tr>\n",
       "  </tbody>\n",
       "</table>\n",
       "</div>"
      ],
      "text/plain": [
       "             Host   SSL  Port                GET uri     POST uri  \\\n",
       "2   185.82.126.47  True   443   185.82.126.47,/pixel  /submit.php   \n",
       "3  94.156.174.121  True   443  94.156.174.121,/watch   /ptracking   \n",
       "\n",
       "                                          User Agent  Watermark  \n",
       "2  Mozilla/5.0 (compatible; MSIE 9.0; Windows NT ...  305419896  \n",
       "3  Mozilla/5.0 (Windows NT 6.1) AppleWebKit/537.3...   76803050  "
      ]
     },
     "execution_count": 14,
     "metadata": {},
     "output_type": "execute_result"
    }
   ],
   "source": [
    "# read a range of row numbers\n",
    "(df.iloc[2:5])"
   ]
  },
  {
   "cell_type": "code",
   "execution_count": 17,
   "metadata": {},
   "outputs": [
    {
     "data": {
      "text/plain": [
       "'Mozilla/5.0 (Linux; Android 6.0; HTC One X10 Build/MRA58K; wv) AppleWebKit/537.36 (KHTML, like Gecko) Version/4.0'"
      ]
     },
     "execution_count": 17,
     "metadata": {},
     "output_type": "execute_result"
    }
   ],
   "source": [
    "# read value from a specifc row, column location\n",
    "(df.iloc[1,5])\n",
    "\n",
    "## Note:count for both rows and columns starts at 0"
   ]
  },
  {
   "cell_type": "markdown",
   "metadata": {},
   "source": [
    "## Data Iteration"
   ]
  },
  {
   "cell_type": "code",
   "execution_count": 18,
   "metadata": {
    "scrolled": true
   },
   "outputs": [
    {
     "name": "stdout",
     "output_type": "stream",
     "text": [
      "0 Host                                              54.66.253.144\n",
      "SSL                                                        True\n",
      "Port                                                        443\n",
      "GET uri       54.66.253.144,/s/ref=nb_sb_noss_1/167-3294888-...\n",
      "POST uri                              /N4215/adj/amzn.us.sr.aps\n",
      "User Agent    Mozilla/5.0 (Windows NT 6.1; WOW64; Trident/7....\n",
      "Watermark                                             562884990\n",
      "Name: 0, dtype: object\n",
      "1 Host                                            103.243.183.250\n",
      "SSL                                                        True\n",
      "Port                                                        443\n",
      "GET uri                              103.243.183.250,/search.js\n",
      "POST uri                                                    /hr\n",
      "User Agent    Mozilla/5.0 (Linux; Android 6.0; HTC One X10 B...\n",
      "Watermark                                             305419896\n",
      "Name: 1, dtype: object\n",
      "2 Host                                              185.82.126.47\n",
      "SSL                                                        True\n",
      "Port                                                        443\n",
      "GET uri                                    185.82.126.47,/pixel\n",
      "POST uri                                            /submit.php\n",
      "User Agent    Mozilla/5.0 (compatible; MSIE 9.0; Windows NT ...\n",
      "Watermark                                             305419896\n",
      "Name: 2, dtype: object\n",
      "3 Host                                             94.156.174.121\n",
      "SSL                                                        True\n",
      "Port                                                        443\n",
      "GET uri                                   94.156.174.121,/watch\n",
      "POST uri                                             /ptracking\n",
      "User Agent    Mozilla/5.0 (Windows NT 6.1) AppleWebKit/537.3...\n",
      "Watermark                                              76803050\n",
      "Name: 3, dtype: object\n"
     ]
    }
   ],
   "source": [
    "#iterate rows by reading all of the data for the first row, then the second row, etc.\n",
    "\n",
    "for index, row in df.iterrows():\n",
    "    print(index,row)"
   ]
  },
  {
   "cell_type": "code",
   "execution_count": 26,
   "metadata": {
    "scrolled": true
   },
   "outputs": [
    {
     "name": "stdout",
     "output_type": "stream",
     "text": [
      "0 Mozilla/5.0 (Windows NT 6.1; WOW64; Trident/7.0; rv:11.0) like Gecko\n",
      "1 Mozilla/5.0 (Linux; Android 6.0; HTC One X10 Build/MRA58K; wv) AppleWebKit/537.36 (KHTML, like Gecko) Version/4.0\n",
      "2 Mozilla/5.0 (compatible; MSIE 9.0; Windows NT 6.1; WOW64; Trident/5.0; MASB)\n",
      "3 Mozilla/5.0 (Windows NT 6.1) AppleWebKit/537.36 (KHTML, like Gecko)\n"
     ]
    }
   ],
   "source": [
    "#iterate over the \"User Agent\" row \n",
    "\n",
    "for index, row in df.iterrows():\n",
    "    print(index,row['User Agent'])"
   ]
  },
  {
   "cell_type": "code",
   "execution_count": 25,
   "metadata": {
    "scrolled": true
   },
   "outputs": [
    {
     "data": {
      "text/html": [
       "<div>\n",
       "<style scoped>\n",
       "    .dataframe tbody tr th:only-of-type {\n",
       "        vertical-align: middle;\n",
       "    }\n",
       "\n",
       "    .dataframe tbody tr th {\n",
       "        vertical-align: top;\n",
       "    }\n",
       "\n",
       "    .dataframe thead th {\n",
       "        text-align: right;\n",
       "    }\n",
       "</style>\n",
       "<table border=\"1\" class=\"dataframe\">\n",
       "  <thead>\n",
       "    <tr style=\"text-align: right;\">\n",
       "      <th></th>\n",
       "      <th>Host</th>\n",
       "      <th>SSL</th>\n",
       "      <th>Port</th>\n",
       "      <th>GET uri</th>\n",
       "      <th>POST uri</th>\n",
       "      <th>User Agent</th>\n",
       "      <th>Watermark</th>\n",
       "    </tr>\n",
       "  </thead>\n",
       "  <tbody>\n",
       "    <tr>\n",
       "      <th>2</th>\n",
       "      <td>185.82.126.47</td>\n",
       "      <td>True</td>\n",
       "      <td>443</td>\n",
       "      <td>185.82.126.47,/pixel</td>\n",
       "      <td>/submit.php</td>\n",
       "      <td>Mozilla/5.0 (compatible; MSIE 9.0; Windows NT ...</td>\n",
       "      <td>305419896</td>\n",
       "    </tr>\n",
       "  </tbody>\n",
       "</table>\n",
       "</div>"
      ],
      "text/plain": [
       "            Host   SSL  Port               GET uri     POST uri  \\\n",
       "2  185.82.126.47  True   443  185.82.126.47,/pixel  /submit.php   \n",
       "\n",
       "                                          User Agent  Watermark  \n",
       "2  Mozilla/5.0 (compatible; MSIE 9.0; Windows NT ...  305419896  "
      ]
     },
     "execution_count": 25,
     "metadata": {},
     "output_type": "execute_result"
    }
   ],
   "source": [
    "#filter on the \"POST uri\" column with the value of \"/submit.php\"\n",
    "\n",
    "df.loc[df['POST uri'] == \"/submit.php\"]\n"
   ]
  },
  {
   "cell_type": "markdown",
   "metadata": {},
   "source": [
    "## Sort Data"
   ]
  },
  {
   "cell_type": "code",
   "execution_count": 34,
   "metadata": {
    "scrolled": true
   },
   "outputs": [
    {
     "data": {
      "text/html": [
       "<div>\n",
       "<style scoped>\n",
       "    .dataframe tbody tr th:only-of-type {\n",
       "        vertical-align: middle;\n",
       "    }\n",
       "\n",
       "    .dataframe tbody tr th {\n",
       "        vertical-align: top;\n",
       "    }\n",
       "\n",
       "    .dataframe thead th {\n",
       "        text-align: right;\n",
       "    }\n",
       "</style>\n",
       "<table border=\"1\" class=\"dataframe\">\n",
       "  <thead>\n",
       "    <tr style=\"text-align: right;\">\n",
       "      <th></th>\n",
       "      <th>Host</th>\n",
       "      <th>SSL</th>\n",
       "      <th>Port</th>\n",
       "      <th>GET uri</th>\n",
       "      <th>POST uri</th>\n",
       "      <th>User Agent</th>\n",
       "      <th>Watermark</th>\n",
       "    </tr>\n",
       "  </thead>\n",
       "  <tbody>\n",
       "    <tr>\n",
       "      <th>295</th>\n",
       "      <td>100.24.69.72</td>\n",
       "      <td>True</td>\n",
       "      <td>443</td>\n",
       "      <td>one.vhy.me,/__utm.gif</td>\n",
       "      <td>/___utm.gif</td>\n",
       "      <td>Mozilla/5.0 (Windows NT 6.1; WOW64; Trident/7....</td>\n",
       "      <td>1363933851</td>\n",
       "    </tr>\n",
       "    <tr>\n",
       "      <th>291</th>\n",
       "      <td>101.32.186.10</td>\n",
       "      <td>True</td>\n",
       "      <td>443</td>\n",
       "      <td>cs.lg22l.com,/Content</td>\n",
       "      <td>/br</td>\n",
       "      <td>Mozilla/5.0 (iPhone; CPU iPhone OS 12_0 like M...</td>\n",
       "      <td>305419896</td>\n",
       "    </tr>\n",
       "    <tr>\n",
       "      <th>319</th>\n",
       "      <td>103.114.162.182</td>\n",
       "      <td>True</td>\n",
       "      <td>443</td>\n",
       "      <td>156.226.191.234,/_/scs/mail-static/_/js/,djiqo...</td>\n",
       "      <td>/mail/u/0/</td>\n",
       "      <td>Mozilla/5.0 (compatible; MSIE 9.0; Windows NT ...</td>\n",
       "      <td>305419896</td>\n",
       "    </tr>\n",
       "    <tr>\n",
       "      <th>253</th>\n",
       "      <td>103.114.162.7</td>\n",
       "      <td>True</td>\n",
       "      <td>443</td>\n",
       "      <td>62.236.206.5,/cx</td>\n",
       "      <td>/submit.php</td>\n",
       "      <td>Mozilla/5.0 (compatible; MSIE 9.0; Windows NT ...</td>\n",
       "      <td>829629313</td>\n",
       "    </tr>\n",
       "    <tr>\n",
       "      <th>436</th>\n",
       "      <td>103.126.6.149</td>\n",
       "      <td>True</td>\n",
       "      <td>443</td>\n",
       "      <td>103.126.6.149,/jquery-3.3.1.min.js</td>\n",
       "      <td>/jquery-3.3.2.min.js</td>\n",
       "      <td>Mozilla/5.0 (Windows NT 6.3; Trident/7.0; rv:1...</td>\n",
       "      <td>305419896</td>\n",
       "    </tr>\n",
       "    <tr>\n",
       "      <th>...</th>\n",
       "      <td>...</td>\n",
       "      <td>...</td>\n",
       "      <td>...</td>\n",
       "      <td>...</td>\n",
       "      <td>...</td>\n",
       "      <td>...</td>\n",
       "      <td>...</td>\n",
       "    </tr>\n",
       "    <tr>\n",
       "      <th>174</th>\n",
       "      <td>95.217.197.78</td>\n",
       "      <td>True</td>\n",
       "      <td>443</td>\n",
       "      <td>oomdatacollect.global.ssl.fastly.net,/pixel.gif</td>\n",
       "      <td>/submit.php</td>\n",
       "      <td>Mozilla/4.0 (compatible; MSIE 7.0; Windows NT ...</td>\n",
       "      <td>0</td>\n",
       "    </tr>\n",
       "    <tr>\n",
       "      <th>471</th>\n",
       "      <td>95.217.197.85</td>\n",
       "      <td>True</td>\n",
       "      <td>443</td>\n",
       "      <td>oomdatacollect.global.ssl.fastly.net,/pixel.gif</td>\n",
       "      <td>/submit.php</td>\n",
       "      <td>Mozilla/4.0 (compatible; MSIE 7.0; Windows NT ...</td>\n",
       "      <td>0</td>\n",
       "    </tr>\n",
       "    <tr>\n",
       "      <th>520</th>\n",
       "      <td>98.142.141.43</td>\n",
       "      <td>True</td>\n",
       "      <td>443</td>\n",
       "      <td>www.nameshow.site,/jquery-3.3.1.min.js</td>\n",
       "      <td>/jquery-3.3.2.min.js</td>\n",
       "      <td>Mozilla/5.1 (Windows NT 6.4; Trident/7.1; rv:1...</td>\n",
       "      <td>305419896</td>\n",
       "    </tr>\n",
       "    <tr>\n",
       "      <th>226</th>\n",
       "      <td>98.142.143.100</td>\n",
       "      <td>True</td>\n",
       "      <td>443</td>\n",
       "      <td>d3kgm44zuz83i3.cloudfront.net,/access/</td>\n",
       "      <td>/radio/xmlrpc/v35</td>\n",
       "      <td>Mozilla/5.0 (Windows NT 6.3; WOW64) AppleWebKi...</td>\n",
       "      <td>305419896</td>\n",
       "    </tr>\n",
       "    <tr>\n",
       "      <th>353</th>\n",
       "      <td>99.79.101.225</td>\n",
       "      <td>True</td>\n",
       "      <td>443</td>\n",
       "      <td>ajax.microsoft.com,/c/msdownload/update/1930155_</td>\n",
       "      <td>/c/msdownload/update/1534335_</td>\n",
       "      <td>Windows-Update-Agent/10.0.10011.16384 Client-P...</td>\n",
       "      <td>1484168582</td>\n",
       "    </tr>\n",
       "  </tbody>\n",
       "</table>\n",
       "<p>522 rows × 7 columns</p>\n",
       "</div>"
      ],
      "text/plain": [
       "                Host   SSL  Port  \\\n",
       "295     100.24.69.72  True   443   \n",
       "291    101.32.186.10  True   443   \n",
       "319  103.114.162.182  True   443   \n",
       "253    103.114.162.7  True   443   \n",
       "436    103.126.6.149  True   443   \n",
       "..               ...   ...   ...   \n",
       "174    95.217.197.78  True   443   \n",
       "471    95.217.197.85  True   443   \n",
       "520    98.142.141.43  True   443   \n",
       "226   98.142.143.100  True   443   \n",
       "353    99.79.101.225  True   443   \n",
       "\n",
       "                                               GET uri  \\\n",
       "295                              one.vhy.me,/__utm.gif   \n",
       "291                              cs.lg22l.com,/Content   \n",
       "319  156.226.191.234,/_/scs/mail-static/_/js/,djiqo...   \n",
       "253                                   62.236.206.5,/cx   \n",
       "436                 103.126.6.149,/jquery-3.3.1.min.js   \n",
       "..                                                 ...   \n",
       "174    oomdatacollect.global.ssl.fastly.net,/pixel.gif   \n",
       "471    oomdatacollect.global.ssl.fastly.net,/pixel.gif   \n",
       "520             www.nameshow.site,/jquery-3.3.1.min.js   \n",
       "226             d3kgm44zuz83i3.cloudfront.net,/access/   \n",
       "353   ajax.microsoft.com,/c/msdownload/update/1930155_   \n",
       "\n",
       "                          POST uri  \\\n",
       "295                    /___utm.gif   \n",
       "291                            /br   \n",
       "319                     /mail/u/0/   \n",
       "253                    /submit.php   \n",
       "436           /jquery-3.3.2.min.js   \n",
       "..                             ...   \n",
       "174                    /submit.php   \n",
       "471                    /submit.php   \n",
       "520           /jquery-3.3.2.min.js   \n",
       "226              /radio/xmlrpc/v35   \n",
       "353  /c/msdownload/update/1534335_   \n",
       "\n",
       "                                            User Agent   Watermark  \n",
       "295  Mozilla/5.0 (Windows NT 6.1; WOW64; Trident/7....  1363933851  \n",
       "291  Mozilla/5.0 (iPhone; CPU iPhone OS 12_0 like M...   305419896  \n",
       "319  Mozilla/5.0 (compatible; MSIE 9.0; Windows NT ...   305419896  \n",
       "253  Mozilla/5.0 (compatible; MSIE 9.0; Windows NT ...   829629313  \n",
       "436  Mozilla/5.0 (Windows NT 6.3; Trident/7.0; rv:1...   305419896  \n",
       "..                                                 ...         ...  \n",
       "174  Mozilla/4.0 (compatible; MSIE 7.0; Windows NT ...           0  \n",
       "471  Mozilla/4.0 (compatible; MSIE 7.0; Windows NT ...           0  \n",
       "520  Mozilla/5.1 (Windows NT 6.4; Trident/7.1; rv:1...   305419896  \n",
       "226  Mozilla/5.0 (Windows NT 6.3; WOW64) AppleWebKi...   305419896  \n",
       "353  Windows-Update-Agent/10.0.10011.16384 Client-P...  1484168582  \n",
       "\n",
       "[522 rows x 7 columns]"
      ]
     },
     "execution_count": 34,
     "metadata": {},
     "output_type": "execute_result"
    }
   ],
   "source": [
    "#sort by the \"Host\" column\n",
    "df.sort_values('Host')"
   ]
  },
  {
   "cell_type": "code",
   "execution_count": 20,
   "metadata": {
    "scrolled": true
   },
   "outputs": [
    {
     "data": {
      "text/html": [
       "<div>\n",
       "<style scoped>\n",
       "    .dataframe tbody tr th:only-of-type {\n",
       "        vertical-align: middle;\n",
       "    }\n",
       "\n",
       "    .dataframe tbody tr th {\n",
       "        vertical-align: top;\n",
       "    }\n",
       "\n",
       "    .dataframe thead th {\n",
       "        text-align: right;\n",
       "    }\n",
       "</style>\n",
       "<table border=\"1\" class=\"dataframe\">\n",
       "  <thead>\n",
       "    <tr style=\"text-align: right;\">\n",
       "      <th></th>\n",
       "      <th>Host</th>\n",
       "      <th>SSL</th>\n",
       "      <th>Port</th>\n",
       "      <th>GET uri</th>\n",
       "      <th>POST uri</th>\n",
       "      <th>User Agent</th>\n",
       "      <th>Watermark</th>\n",
       "    </tr>\n",
       "  </thead>\n",
       "  <tbody>\n",
       "    <tr>\n",
       "      <th>3</th>\n",
       "      <td>94.156.174.121</td>\n",
       "      <td>True</td>\n",
       "      <td>443</td>\n",
       "      <td>94.156.174.121,/watch</td>\n",
       "      <td>/ptracking</td>\n",
       "      <td>Mozilla/5.0 (Windows NT 6.1) AppleWebKit/537.3...</td>\n",
       "      <td>76803050</td>\n",
       "    </tr>\n",
       "    <tr>\n",
       "      <th>0</th>\n",
       "      <td>54.66.253.144</td>\n",
       "      <td>True</td>\n",
       "      <td>443</td>\n",
       "      <td>54.66.253.144,/s/ref=nb_sb_noss_1/167-3294888-...</td>\n",
       "      <td>/N4215/adj/amzn.us.sr.aps</td>\n",
       "      <td>Mozilla/5.0 (Windows NT 6.1; WOW64; Trident/7....</td>\n",
       "      <td>562884990</td>\n",
       "    </tr>\n",
       "    <tr>\n",
       "      <th>2</th>\n",
       "      <td>185.82.126.47</td>\n",
       "      <td>True</td>\n",
       "      <td>443</td>\n",
       "      <td>185.82.126.47,/pixel</td>\n",
       "      <td>/submit.php</td>\n",
       "      <td>Mozilla/5.0 (compatible; MSIE 9.0; Windows NT ...</td>\n",
       "      <td>305419896</td>\n",
       "    </tr>\n",
       "    <tr>\n",
       "      <th>1</th>\n",
       "      <td>103.243.183.250</td>\n",
       "      <td>True</td>\n",
       "      <td>443</td>\n",
       "      <td>103.243.183.250,/search.js</td>\n",
       "      <td>/hr</td>\n",
       "      <td>Mozilla/5.0 (Linux; Android 6.0; HTC One X10 B...</td>\n",
       "      <td>305419896</td>\n",
       "    </tr>\n",
       "  </tbody>\n",
       "</table>\n",
       "</div>"
      ],
      "text/plain": [
       "              Host   SSL  Port  \\\n",
       "3   94.156.174.121  True   443   \n",
       "0    54.66.253.144  True   443   \n",
       "2    185.82.126.47  True   443   \n",
       "1  103.243.183.250  True   443   \n",
       "\n",
       "                                             GET uri  \\\n",
       "3                              94.156.174.121,/watch   \n",
       "0  54.66.253.144,/s/ref=nb_sb_noss_1/167-3294888-...   \n",
       "2                               185.82.126.47,/pixel   \n",
       "1                         103.243.183.250,/search.js   \n",
       "\n",
       "                    POST uri  \\\n",
       "3                 /ptracking   \n",
       "0  /N4215/adj/amzn.us.sr.aps   \n",
       "2                /submit.php   \n",
       "1                        /hr   \n",
       "\n",
       "                                          User Agent  Watermark  \n",
       "3  Mozilla/5.0 (Windows NT 6.1) AppleWebKit/537.3...   76803050  \n",
       "0  Mozilla/5.0 (Windows NT 6.1; WOW64; Trident/7....  562884990  \n",
       "2  Mozilla/5.0 (compatible; MSIE 9.0; Windows NT ...  305419896  \n",
       "1  Mozilla/5.0 (Linux; Android 6.0; HTC One X10 B...  305419896  "
      ]
     },
     "execution_count": 20,
     "metadata": {},
     "output_type": "execute_result"
    }
   ],
   "source": [
    "#sort by \"Host\" column and in a descending order\n",
    "df.sort_values('Host', ascending=False)"
   ]
  },
  {
   "cell_type": "markdown",
   "metadata": {},
   "source": [
    "## Filter Data"
   ]
  },
  {
   "cell_type": "code",
   "execution_count": 24,
   "metadata": {
    "scrolled": true
   },
   "outputs": [
    {
     "data": {
      "text/html": [
       "<div>\n",
       "<style scoped>\n",
       "    .dataframe tbody tr th:only-of-type {\n",
       "        vertical-align: middle;\n",
       "    }\n",
       "\n",
       "    .dataframe tbody tr th {\n",
       "        vertical-align: top;\n",
       "    }\n",
       "\n",
       "    .dataframe thead th {\n",
       "        text-align: right;\n",
       "    }\n",
       "</style>\n",
       "<table border=\"1\" class=\"dataframe\">\n",
       "  <thead>\n",
       "    <tr style=\"text-align: right;\">\n",
       "      <th></th>\n",
       "      <th>Host</th>\n",
       "      <th>SSL</th>\n",
       "      <th>Port</th>\n",
       "      <th>GET uri</th>\n",
       "      <th>POST uri</th>\n",
       "      <th>User Agent</th>\n",
       "      <th>Watermark</th>\n",
       "    </tr>\n",
       "  </thead>\n",
       "  <tbody>\n",
       "  </tbody>\n",
       "</table>\n",
       "</div>"
      ],
      "text/plain": [
       "Empty DataFrame\n",
       "Columns: [Host, SSL, Port, GET uri, POST uri, User Agent, Watermark]\n",
       "Index: []"
      ]
     },
     "execution_count": 24,
     "metadata": {},
     "output_type": "execute_result"
    }
   ],
   "source": [
    "#filter on \"User Agent\" value of \"Shockwave Flash\"\n",
    "df.loc[(df['User Agent'] == 'Shockwave Flash')]"
   ]
  },
  {
   "cell_type": "code",
   "execution_count": 22,
   "metadata": {
    "scrolled": true
   },
   "outputs": [
    {
     "data": {
      "text/html": [
       "<div>\n",
       "<style scoped>\n",
       "    .dataframe tbody tr th:only-of-type {\n",
       "        vertical-align: middle;\n",
       "    }\n",
       "\n",
       "    .dataframe tbody tr th {\n",
       "        vertical-align: top;\n",
       "    }\n",
       "\n",
       "    .dataframe thead th {\n",
       "        text-align: right;\n",
       "    }\n",
       "</style>\n",
       "<table border=\"1\" class=\"dataframe\">\n",
       "  <thead>\n",
       "    <tr style=\"text-align: right;\">\n",
       "      <th></th>\n",
       "      <th>Host</th>\n",
       "      <th>SSL</th>\n",
       "      <th>Port</th>\n",
       "      <th>GET uri</th>\n",
       "      <th>POST uri</th>\n",
       "      <th>User Agent</th>\n",
       "      <th>Watermark</th>\n",
       "    </tr>\n",
       "  </thead>\n",
       "  <tbody>\n",
       "  </tbody>\n",
       "</table>\n",
       "</div>"
      ],
      "text/plain": [
       "Empty DataFrame\n",
       "Columns: [Host, SSL, Port, GET uri, POST uri, User Agent, Watermark]\n",
       "Index: []"
      ]
     },
     "execution_count": 22,
     "metadata": {},
     "output_type": "execute_result"
    }
   ],
   "source": [
    "#filter on \"User Agent\" value of \"Shockwave Flash\" OR \"User Agent\" value \"Microsoft BITS/7.8\"\n",
    "\n",
    "df.loc[(df['User Agent'] == 'Shockwave Flash') | (df['User Agent'] == 'Microsoft BITS/7.8')]\n",
    "\n",
    "## Note: instead of an \"OR\" you can look at \"AND\" by changing \"|\" to  \"&\""
   ]
  },
  {
   "cell_type": "code",
   "execution_count": 23,
   "metadata": {
    "scrolled": false
   },
   "outputs": [
    {
     "data": {
      "text/html": [
       "<div>\n",
       "<style scoped>\n",
       "    .dataframe tbody tr th:only-of-type {\n",
       "        vertical-align: middle;\n",
       "    }\n",
       "\n",
       "    .dataframe tbody tr th {\n",
       "        vertical-align: top;\n",
       "    }\n",
       "\n",
       "    .dataframe thead th {\n",
       "        text-align: right;\n",
       "    }\n",
       "</style>\n",
       "<table border=\"1\" class=\"dataframe\">\n",
       "  <thead>\n",
       "    <tr style=\"text-align: right;\">\n",
       "      <th></th>\n",
       "      <th>Host</th>\n",
       "      <th>SSL</th>\n",
       "      <th>Port</th>\n",
       "      <th>GET uri</th>\n",
       "      <th>POST uri</th>\n",
       "      <th>User Agent</th>\n",
       "      <th>Watermark</th>\n",
       "    </tr>\n",
       "  </thead>\n",
       "  <tbody>\n",
       "  </tbody>\n",
       "</table>\n",
       "</div>"
      ],
      "text/plain": [
       "Empty DataFrame\n",
       "Columns: [Host, SSL, Port, GET uri, POST uri, User Agent, Watermark]\n",
       "Index: []"
      ]
     },
     "execution_count": 23,
     "metadata": {},
     "output_type": "execute_result"
    }
   ],
   "source": [
    "#filter on a column that \"contains\" a certain value\n",
    "\n",
    "df.loc[df['GET uri'].str.contains('login')]"
   ]
  },
  {
   "cell_type": "code",
   "execution_count": null,
   "metadata": {},
   "outputs": [],
   "source": []
  }
 ],
 "metadata": {
  "kernelspec": {
   "display_name": "Python 3",
   "language": "python",
   "name": "python3"
  },
  "language_info": {
   "codemirror_mode": {
    "name": "ipython",
    "version": 3
   },
   "file_extension": ".py",
   "mimetype": "text/x-python",
   "name": "python",
   "nbconvert_exporter": "python",
   "pygments_lexer": "ipython3",
   "version": "3.5.3"
  }
 },
 "nbformat": 4,
 "nbformat_minor": 4
}
