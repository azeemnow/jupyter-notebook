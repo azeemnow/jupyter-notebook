{
 "cells": [
  {
   "cell_type": "markdown",
   "metadata": {},
   "source": [
    "# Jupyter Notebook for Cybersecurity - Part 2/5"
   ]
  },
  {
   "cell_type": "markdown",
   "metadata": {},
   "source": [
    "**The is part 2/5 of the project. While some of the instructions and code will repeat it is recommended that you review previous parts to get a complete understanding of the process.**"
   ]
  },
  {
   "cell_type": "markdown",
   "metadata": {},
   "source": [
    "Jupter Notebook is an open interactive tool for large-scale data exploration, transformation, analysis, and visualization. It is built on Jupyter (formerly IPython) and is similar to Google Cloud's Datalab."
   ]
  },
  {
   "cell_type": "markdown",
   "metadata": {},
   "source": [
    "The data set used in this Jupyter Notebook is the **CobaltStrike_Hunting Google Doc** The sheet named **Cobalt Strike -Te-k research 2020** was downloaded and saved locally as a CSV file. \n",
    "\n",
    "Link to the Google Doc Sheet is: https://docs.google.com/spreadsheets/d/1bYvBh6NkNYGstfQWnT5n7cSxdhjSn1mduX8cziWSGrw/edit#gid=516128248"
   ]
  },
  {
   "cell_type": "markdown",
   "metadata": {},
   "source": [
    "# Getting Started"
   ]
  },
  {
   "cell_type": "markdown",
   "metadata": {},
   "source": [
    "## Install Libraries\n",
    "\n",
    "First step: in your computer's command prompt enter the following two commands to install the pandas and matplotlib libraries: "
   ]
  },
  {
   "cell_type": "raw",
   "metadata": {},
   "source": [
    "pip3 install pandas\n",
    "pip3 install matplotlib"
   ]
  },
  {
   "cell_type": "markdown",
   "metadata": {},
   "source": [
    "Note: \"Pip3\" is a version of the pip installer for python3"
   ]
  },
  {
   "cell_type": "markdown",
   "metadata": {},
   "source": [
    "## Import Libraries\n",
    "\n",
    "Second Step: import the above installed libraries in your Jupyter Notebook"
   ]
  },
  {
   "cell_type": "code",
   "execution_count": 1,
   "metadata": {},
   "outputs": [],
   "source": [
    "import pandas as pd\n",
    "# data analysis and manipulation tool\n",
    "\n",
    "import numpy as np\n",
    "# mathematical functions\n",
    "\n",
    "import matplotlib.pyplot as plt\n",
    "# creating static, animated, and interactive visualizations\n",
    "\n",
    "%matplotlib inline\n",
    "# renders static images \n",
    "\n",
    "# %matplotlib notebook\n",
    "# renders dynamic interactive images \n",
    "\n",
    "import re\n",
    "# regular expression library"
   ]
  },
  {
   "cell_type": "markdown",
   "metadata": {},
   "source": [
    "## Load  Data\n",
    "\n",
    "The third and last step in Getting Started is to load your raw data. This is much easier if you have your raw data saved in the same directory where you are running Jupyter Notebook from."
   ]
  },
  {
   "cell_type": "code",
   "execution_count": 2,
   "metadata": {
    "scrolled": true
   },
   "outputs": [],
   "source": [
    "df = pd.read_csv('cb_servers_small.csv')"
   ]
  },
  {
   "cell_type": "markdown",
   "metadata": {},
   "source": [
    "## Default Data Display\n",
    "\n",
    "By default, the pandas' library displays just a few rows of the full output. You can override this to display all of the output by executing the following code:"
   ]
  },
  {
   "cell_type": "raw",
   "metadata": {},
   "source": [
    "pd.set_option('display.max_rows', df.shape[0]+1)\n",
    "print(df)"
   ]
  },
  {
   "cell_type": "markdown",
   "metadata": {},
   "source": [
    "### Confirm a Successful Data Load"
   ]
  },
  {
   "cell_type": "code",
   "execution_count": 3,
   "metadata": {},
   "outputs": [
    {
     "data": {
      "text/html": [
       "<div>\n",
       "<style scoped>\n",
       "    .dataframe tbody tr th:only-of-type {\n",
       "        vertical-align: middle;\n",
       "    }\n",
       "\n",
       "    .dataframe tbody tr th {\n",
       "        vertical-align: top;\n",
       "    }\n",
       "\n",
       "    .dataframe thead th {\n",
       "        text-align: right;\n",
       "    }\n",
       "</style>\n",
       "<table border=\"1\" class=\"dataframe\">\n",
       "  <thead>\n",
       "    <tr style=\"text-align: right;\">\n",
       "      <th></th>\n",
       "      <th>Host</th>\n",
       "      <th>SSL</th>\n",
       "      <th>Port</th>\n",
       "      <th>GET uri</th>\n",
       "      <th>POST uri</th>\n",
       "      <th>User Agent</th>\n",
       "      <th>Watermark</th>\n",
       "    </tr>\n",
       "  </thead>\n",
       "  <tbody>\n",
       "    <tr>\n",
       "      <th>0</th>\n",
       "      <td>54.66.253.144</td>\n",
       "      <td>True</td>\n",
       "      <td>443</td>\n",
       "      <td>54.66.253.144,/s/ref=nb_sb_noss_1/167-3294888-...</td>\n",
       "      <td>/N4215/adj/amzn.us.sr.aps</td>\n",
       "      <td>Mozilla/5.0 (Windows NT 6.1; WOW64; Trident/7....</td>\n",
       "      <td>562884990</td>\n",
       "    </tr>\n",
       "    <tr>\n",
       "      <th>1</th>\n",
       "      <td>103.243.183.250</td>\n",
       "      <td>True</td>\n",
       "      <td>443</td>\n",
       "      <td>103.243.183.250,/search.js</td>\n",
       "      <td>/hr</td>\n",
       "      <td>Mozilla/5.0 (Linux; Android 6.0; HTC One X10 B...</td>\n",
       "      <td>305419896</td>\n",
       "    </tr>\n",
       "    <tr>\n",
       "      <th>2</th>\n",
       "      <td>185.82.126.47</td>\n",
       "      <td>True</td>\n",
       "      <td>443</td>\n",
       "      <td>185.82.126.47,/pixel</td>\n",
       "      <td>/submit.php</td>\n",
       "      <td>Mozilla/5.0 (compatible; MSIE 9.0; Windows NT ...</td>\n",
       "      <td>305419896</td>\n",
       "    </tr>\n",
       "    <tr>\n",
       "      <th>3</th>\n",
       "      <td>94.156.174.121</td>\n",
       "      <td>True</td>\n",
       "      <td>443</td>\n",
       "      <td>94.156.174.121,/watch</td>\n",
       "      <td>/ptracking</td>\n",
       "      <td>Mozilla/5.0 (Windows NT 6.1) AppleWebKit/537.3...</td>\n",
       "      <td>76803050</td>\n",
       "    </tr>\n",
       "    <tr>\n",
       "      <th>4</th>\n",
       "      <td>194.36.191.118</td>\n",
       "      <td>True</td>\n",
       "      <td>443</td>\n",
       "      <td>194.36.191.118,/visit.js</td>\n",
       "      <td>/submit.php</td>\n",
       "      <td>Mozilla/4.0 (compatible; MSIE 8.0; Windows NT ...</td>\n",
       "      <td>305419896</td>\n",
       "    </tr>\n",
       "  </tbody>\n",
       "</table>\n",
       "</div>"
      ],
      "text/plain": [
       "              Host   SSL  Port  \\\n",
       "0    54.66.253.144  True   443   \n",
       "1  103.243.183.250  True   443   \n",
       "2    185.82.126.47  True   443   \n",
       "3   94.156.174.121  True   443   \n",
       "4   194.36.191.118  True   443   \n",
       "\n",
       "                                             GET uri  \\\n",
       "0  54.66.253.144,/s/ref=nb_sb_noss_1/167-3294888-...   \n",
       "1                         103.243.183.250,/search.js   \n",
       "2                               185.82.126.47,/pixel   \n",
       "3                              94.156.174.121,/watch   \n",
       "4                           194.36.191.118,/visit.js   \n",
       "\n",
       "                    POST uri  \\\n",
       "0  /N4215/adj/amzn.us.sr.aps   \n",
       "1                        /hr   \n",
       "2                /submit.php   \n",
       "3                 /ptracking   \n",
       "4                /submit.php   \n",
       "\n",
       "                                          User Agent  Watermark  \n",
       "0  Mozilla/5.0 (Windows NT 6.1; WOW64; Trident/7....  562884990  \n",
       "1  Mozilla/5.0 (Linux; Android 6.0; HTC One X10 B...  305419896  \n",
       "2  Mozilla/5.0 (compatible; MSIE 9.0; Windows NT ...  305419896  \n",
       "3  Mozilla/5.0 (Windows NT 6.1) AppleWebKit/537.3...   76803050  \n",
       "4  Mozilla/4.0 (compatible; MSIE 8.0; Windows NT ...  305419896  "
      ]
     },
     "execution_count": 3,
     "metadata": {},
     "output_type": "execute_result"
    }
   ],
   "source": [
    "df.head()"
   ]
  },
  {
   "cell_type": "markdown",
   "metadata": {},
   "source": [
    "# Regular Expression (RE)"
   ]
  },
  {
   "cell_type": "markdown",
   "metadata": {},
   "source": [
    "## Filter Data Using RE"
   ]
  },
  {
   "cell_type": "code",
   "execution_count": 8,
   "metadata": {},
   "outputs": [
    {
     "data": {
      "text/html": [
       "<div>\n",
       "<style scoped>\n",
       "    .dataframe tbody tr th:only-of-type {\n",
       "        vertical-align: middle;\n",
       "    }\n",
       "\n",
       "    .dataframe tbody tr th {\n",
       "        vertical-align: top;\n",
       "    }\n",
       "\n",
       "    .dataframe thead th {\n",
       "        text-align: right;\n",
       "    }\n",
       "</style>\n",
       "<table border=\"1\" class=\"dataframe\">\n",
       "  <thead>\n",
       "    <tr style=\"text-align: right;\">\n",
       "      <th></th>\n",
       "      <th>Host</th>\n",
       "      <th>SSL</th>\n",
       "      <th>Port</th>\n",
       "      <th>GET uri</th>\n",
       "      <th>POST uri</th>\n",
       "      <th>User Agent</th>\n",
       "      <th>Watermark</th>\n",
       "    </tr>\n",
       "  </thead>\n",
       "  <tbody>\n",
       "  </tbody>\n",
       "</table>\n",
       "</div>"
      ],
      "text/plain": [
       "Empty DataFrame\n",
       "Columns: [Host, SSL, Port, GET uri, POST uri, User Agent, Watermark]\n",
       "Index: []"
      ]
     },
     "execution_count": 8,
     "metadata": {},
     "output_type": "execute_result"
    }
   ],
   "source": [
    "# Filter on the \"GET uri\" column and contains \"login\" OR \"access\" values\n",
    "\n",
    "df.loc[df['GET uri'].str.contains('login|access', flags=re.I, regex=True)]"
   ]
  },
  {
   "cell_type": "code",
   "execution_count": 9,
   "metadata": {},
   "outputs": [
    {
     "data": {
      "text/html": [
       "<div>\n",
       "<style scoped>\n",
       "    .dataframe tbody tr th:only-of-type {\n",
       "        vertical-align: middle;\n",
       "    }\n",
       "\n",
       "    .dataframe tbody tr th {\n",
       "        vertical-align: top;\n",
       "    }\n",
       "\n",
       "    .dataframe thead th {\n",
       "        text-align: right;\n",
       "    }\n",
       "</style>\n",
       "<table border=\"1\" class=\"dataframe\">\n",
       "  <thead>\n",
       "    <tr style=\"text-align: right;\">\n",
       "      <th></th>\n",
       "      <th>Host</th>\n",
       "      <th>SSL</th>\n",
       "      <th>Port</th>\n",
       "      <th>GET uri</th>\n",
       "      <th>POST uri</th>\n",
       "      <th>User Agent</th>\n",
       "      <th>Watermark</th>\n",
       "    </tr>\n",
       "  </thead>\n",
       "  <tbody>\n",
       "    <tr>\n",
       "      <th>0</th>\n",
       "      <td>54.66.253.144</td>\n",
       "      <td>True</td>\n",
       "      <td>443</td>\n",
       "      <td>54.66.253.144,/s/ref=nb_sb_noss_1/167-3294888-...</td>\n",
       "      <td>/N4215/adj/amzn.us.sr.aps</td>\n",
       "      <td>Mozilla/5.0 (Windows NT 6.1; WOW64; Trident/7....</td>\n",
       "      <td>562884990</td>\n",
       "    </tr>\n",
       "    <tr>\n",
       "      <th>1</th>\n",
       "      <td>103.243.183.250</td>\n",
       "      <td>True</td>\n",
       "      <td>443</td>\n",
       "      <td>103.243.183.250,/search.js</td>\n",
       "      <td>/hr</td>\n",
       "      <td>Mozilla/5.0 (Linux; Android 6.0; HTC One X10 B...</td>\n",
       "      <td>305419896</td>\n",
       "    </tr>\n",
       "    <tr>\n",
       "      <th>2</th>\n",
       "      <td>185.82.126.47</td>\n",
       "      <td>True</td>\n",
       "      <td>443</td>\n",
       "      <td>185.82.126.47,/pixel</td>\n",
       "      <td>/submit.php</td>\n",
       "      <td>Mozilla/5.0 (compatible; MSIE 9.0; Windows NT ...</td>\n",
       "      <td>305419896</td>\n",
       "    </tr>\n",
       "    <tr>\n",
       "      <th>3</th>\n",
       "      <td>94.156.174.121</td>\n",
       "      <td>True</td>\n",
       "      <td>443</td>\n",
       "      <td>94.156.174.121,/watch</td>\n",
       "      <td>/ptracking</td>\n",
       "      <td>Mozilla/5.0 (Windows NT 6.1) AppleWebKit/537.3...</td>\n",
       "      <td>76803050</td>\n",
       "    </tr>\n",
       "  </tbody>\n",
       "</table>\n",
       "</div>"
      ],
      "text/plain": [
       "              Host   SSL  Port  \\\n",
       "0    54.66.253.144  True   443   \n",
       "1  103.243.183.250  True   443   \n",
       "2    185.82.126.47  True   443   \n",
       "3   94.156.174.121  True   443   \n",
       "\n",
       "                                             GET uri  \\\n",
       "0  54.66.253.144,/s/ref=nb_sb_noss_1/167-3294888-...   \n",
       "1                         103.243.183.250,/search.js   \n",
       "2                               185.82.126.47,/pixel   \n",
       "3                              94.156.174.121,/watch   \n",
       "\n",
       "                    POST uri  \\\n",
       "0  /N4215/adj/amzn.us.sr.aps   \n",
       "1                        /hr   \n",
       "2                /submit.php   \n",
       "3                 /ptracking   \n",
       "\n",
       "                                          User Agent  Watermark  \n",
       "0  Mozilla/5.0 (Windows NT 6.1; WOW64; Trident/7....  562884990  \n",
       "1  Mozilla/5.0 (Linux; Android 6.0; HTC One X10 B...  305419896  \n",
       "2  Mozilla/5.0 (compatible; MSIE 9.0; Windows NT ...  305419896  \n",
       "3  Mozilla/5.0 (Windows NT 6.1) AppleWebKit/537.3...   76803050  "
      ]
     },
     "execution_count": 9,
     "metadata": {},
     "output_type": "execute_result"
    }
   ],
   "source": [
    "# Filter on the \"GET uri\" column and DOES NOT contain \"login\" OR \"access\" values\n",
    "\n",
    "df.loc[~df['GET uri'].str.contains('login')]"
   ]
  },
  {
   "cell_type": "code",
   "execution_count": 11,
   "metadata": {},
   "outputs": [
    {
     "data": {
      "text/html": [
       "<div>\n",
       "<style scoped>\n",
       "    .dataframe tbody tr th:only-of-type {\n",
       "        vertical-align: middle;\n",
       "    }\n",
       "\n",
       "    .dataframe tbody tr th {\n",
       "        vertical-align: top;\n",
       "    }\n",
       "\n",
       "    .dataframe thead th {\n",
       "        text-align: right;\n",
       "    }\n",
       "</style>\n",
       "<table border=\"1\" class=\"dataframe\">\n",
       "  <thead>\n",
       "    <tr style=\"text-align: right;\">\n",
       "      <th></th>\n",
       "      <th>Host</th>\n",
       "      <th>SSL</th>\n",
       "      <th>Port</th>\n",
       "      <th>GET uri</th>\n",
       "      <th>POST uri</th>\n",
       "      <th>User Agent</th>\n",
       "      <th>Watermark</th>\n",
       "    </tr>\n",
       "  </thead>\n",
       "  <tbody>\n",
       "  </tbody>\n",
       "</table>\n",
       "</div>"
      ],
      "text/plain": [
       "Empty DataFrame\n",
       "Columns: [Host, SSL, Port, GET uri, POST uri, User Agent, Watermark]\n",
       "Index: []"
      ]
     },
     "execution_count": 11,
     "metadata": {},
     "output_type": "execute_result"
    }
   ],
   "source": [
    "# Filter on the \"User Agent\" column that DOES NOT begin with \"Mozilla\" \n",
    "\n",
    "df.loc[~df['User Agent'].str.contains('Mozilla[a-z]*')]"
   ]
  },
  {
   "cell_type": "code",
   "execution_count": 13,
   "metadata": {},
   "outputs": [
    {
     "data": {
      "text/html": [
       "<div>\n",
       "<style scoped>\n",
       "    .dataframe tbody tr th:only-of-type {\n",
       "        vertical-align: middle;\n",
       "    }\n",
       "\n",
       "    .dataframe tbody tr th {\n",
       "        vertical-align: top;\n",
       "    }\n",
       "\n",
       "    .dataframe thead th {\n",
       "        text-align: right;\n",
       "    }\n",
       "</style>\n",
       "<table border=\"1\" class=\"dataframe\">\n",
       "  <thead>\n",
       "    <tr style=\"text-align: right;\">\n",
       "      <th></th>\n",
       "      <th>Host</th>\n",
       "      <th>SSL</th>\n",
       "      <th>Port</th>\n",
       "      <th>GET uri</th>\n",
       "      <th>POST uri</th>\n",
       "      <th>User Agent</th>\n",
       "      <th>Watermark</th>\n",
       "    </tr>\n",
       "  </thead>\n",
       "  <tbody>\n",
       "    <tr>\n",
       "      <th>0</th>\n",
       "      <td>54.66.253.144</td>\n",
       "      <td>True</td>\n",
       "      <td>443</td>\n",
       "      <td>54.66.253.144,/s/ref=nb_sb_noss_1/167-3294888-...</td>\n",
       "      <td>/N4215/adj/amzn.us.sr.aps</td>\n",
       "      <td>Mozilla/5.0 (Windows NT 6.1; WOW64; Trident/7....</td>\n",
       "      <td>562884990</td>\n",
       "    </tr>\n",
       "    <tr>\n",
       "      <th>1</th>\n",
       "      <td>103.243.183.250</td>\n",
       "      <td>True</td>\n",
       "      <td>443</td>\n",
       "      <td>103.243.183.250,/search.js</td>\n",
       "      <td>/hr</td>\n",
       "      <td>Mozilla/5.0 (Linux; Android 6.0; HTC One X10 B...</td>\n",
       "      <td>305419896</td>\n",
       "    </tr>\n",
       "    <tr>\n",
       "      <th>2</th>\n",
       "      <td>185.82.126.47</td>\n",
       "      <td>True</td>\n",
       "      <td>443</td>\n",
       "      <td>185.82.126.47,/pixel</td>\n",
       "      <td>/submit.php</td>\n",
       "      <td>Mozilla/5.0 (compatible; MSIE 9.0; Windows NT ...</td>\n",
       "      <td>305419896</td>\n",
       "    </tr>\n",
       "    <tr>\n",
       "      <th>3</th>\n",
       "      <td>94.156.174.121</td>\n",
       "      <td>True</td>\n",
       "      <td>443</td>\n",
       "      <td>94.156.174.121,/watch</td>\n",
       "      <td>/ptracking</td>\n",
       "      <td>Mozilla/5.0 (Windows NT 6.1) AppleWebKit/537.3...</td>\n",
       "      <td>76803050</td>\n",
       "    </tr>\n",
       "  </tbody>\n",
       "</table>\n",
       "</div>"
      ],
      "text/plain": [
       "              Host   SSL  Port  \\\n",
       "0    54.66.253.144  True   443   \n",
       "1  103.243.183.250  True   443   \n",
       "2    185.82.126.47  True   443   \n",
       "3   94.156.174.121  True   443   \n",
       "\n",
       "                                             GET uri  \\\n",
       "0  54.66.253.144,/s/ref=nb_sb_noss_1/167-3294888-...   \n",
       "1                         103.243.183.250,/search.js   \n",
       "2                               185.82.126.47,/pixel   \n",
       "3                              94.156.174.121,/watch   \n",
       "\n",
       "                    POST uri  \\\n",
       "0  /N4215/adj/amzn.us.sr.aps   \n",
       "1                        /hr   \n",
       "2                /submit.php   \n",
       "3                 /ptracking   \n",
       "\n",
       "                                          User Agent  Watermark  \n",
       "0  Mozilla/5.0 (Windows NT 6.1; WOW64; Trident/7....  562884990  \n",
       "1  Mozilla/5.0 (Linux; Android 6.0; HTC One X10 B...  305419896  \n",
       "2  Mozilla/5.0 (compatible; MSIE 9.0; Windows NT ...  305419896  \n",
       "3  Mozilla/5.0 (Windows NT 6.1) AppleWebKit/537.3...   76803050  "
      ]
     },
     "execution_count": 13,
     "metadata": {},
     "output_type": "execute_result"
    }
   ],
   "source": [
    "# Filter on the \"GET uri\" columns that begins a valid IP address \n",
    "# A regular expression is used to look for a valid IP address pattern that is followed by any character\n",
    "\n",
    "df.loc[df['GET uri'].str.contains('^\\d{1,3}.\\d{1,3}.\\d{1,3}.\\d{1,3}.', flags=re.I, regex=True)]"
   ]
  },
  {
   "cell_type": "markdown",
   "metadata": {},
   "source": [
    "## Basic Statistical Values "
   ]
  },
  {
   "cell_type": "code",
   "execution_count": 14,
   "metadata": {},
   "outputs": [
    {
     "data": {
      "text/plain": [
       "Mozilla/5.0 (Windows NT 6.1) AppleWebKit/537.36 (KHTML, like Gecko)                                                  1\n",
       "Mozilla/5.0 (Windows NT 6.1; WOW64; Trident/7.0; rv:11.0) like Gecko                                                 1\n",
       "Mozilla/5.0 (compatible; MSIE 9.0; Windows NT 6.1; WOW64; Trident/5.0; MASB)                                         1\n",
       "Mozilla/5.0 (Linux; Android 6.0; HTC One X10 Build/MRA58K; wv) AppleWebKit/537.36 (KHTML, like Gecko) Version/4.0    1\n",
       "Name: User Agent, dtype: int64"
      ]
     },
     "execution_count": 14,
     "metadata": {},
     "output_type": "execute_result"
    }
   ],
   "source": [
    "# generate a unique count of the values in the \"User Agent\" column\n",
    "df['User Agent'].value_counts()"
   ]
  },
  {
   "cell_type": "markdown",
   "metadata": {},
   "source": [
    "## Basic Visualization"
   ]
  },
  {
   "cell_type": "code",
   "execution_count": 3,
   "metadata": {
    "scrolled": true
   },
   "outputs": [
    {
     "data": {
      "text/plain": [
       "<matplotlib.axes._subplots.AxesSubplot at 0xb4e9af0>"
      ]
     },
     "execution_count": 3,
     "metadata": {},
     "output_type": "execute_result"
    },
    {
     "data": {
      "image/png": "[encoded data removed]",
      "text/plain": [
       "<Figure size 432x432 with 1 Axes>"
      ]
     },
     "metadata": {},
     "output_type": "display_data"
    }
   ],
   "source": [
    "# plot a pie chart of the top 5 \"User Agent\" values  using 'nlargest(5)'\n",
    "df['User Agent'].value_counts().nlargest(5).plot(kind='pie',figsize=[6,6])"
   ]
  },
  {
   "cell_type": "code",
   "execution_count": 4,
   "metadata": {},
   "outputs": [
    {
     "data": {
      "image/png": "[encoded data removed]",
      "text/plain": [
       "<Figure size 432x432 with 1 Axes>"
      ]
     },
     "metadata": {
      "needs_background": "light"
     },
     "output_type": "display_data"
    }
   ],
   "source": [
    "# plot a bar chart of the top 5 \"Watermark\" values using 'nlargest(5)'\n",
    "ax = df['Watermark'].value_counts().nlargest(5).plot(kind='bar',figsize=[6,6])"
   ]
  },
  {
   "cell_type": "markdown",
   "metadata": {},
   "source": [
    "## Basic Grouping"
   ]
  },
  {
   "cell_type": "code",
   "execution_count": 20,
   "metadata": {
    "scrolled": true
   },
   "outputs": [
    {
     "data": {
      "text/html": [
       "<div>\n",
       "<style scoped>\n",
       "    .dataframe tbody tr th:only-of-type {\n",
       "        vertical-align: middle;\n",
       "    }\n",
       "\n",
       "    .dataframe tbody tr th {\n",
       "        vertical-align: top;\n",
       "    }\n",
       "\n",
       "    .dataframe thead th {\n",
       "        text-align: right;\n",
       "    }\n",
       "</style>\n",
       "<table border=\"1\" class=\"dataframe\">\n",
       "  <thead>\n",
       "    <tr style=\"text-align: right;\">\n",
       "      <th></th>\n",
       "      <th></th>\n",
       "      <th></th>\n",
       "      <th>SSL</th>\n",
       "      <th>Port</th>\n",
       "      <th>GET uri</th>\n",
       "      <th>Watermark</th>\n",
       "    </tr>\n",
       "    <tr>\n",
       "      <th>User Agent</th>\n",
       "      <th>POST uri</th>\n",
       "      <th>Host</th>\n",
       "      <th></th>\n",
       "      <th></th>\n",
       "      <th></th>\n",
       "      <th></th>\n",
       "    </tr>\n",
       "  </thead>\n",
       "  <tbody>\n",
       "    <tr>\n",
       "      <th>Mozilla/5.0 (Linux; Android 6.0; HTC One X10 Build/MRA58K; wv) AppleWebKit/537.36 (KHTML, like Gecko) Version/4.0</th>\n",
       "      <th>/hr</th>\n",
       "      <th>103.243.183.250</th>\n",
       "      <td>True</td>\n",
       "      <td>443</td>\n",
       "      <td>103.243.183.250,/search.js</td>\n",
       "      <td>305419896</td>\n",
       "    </tr>\n",
       "    <tr>\n",
       "      <th>Mozilla/5.0 (Windows NT 6.1) AppleWebKit/537.36 (KHTML, like Gecko)</th>\n",
       "      <th>/ptracking</th>\n",
       "      <th>94.156.174.121</th>\n",
       "      <td>True</td>\n",
       "      <td>443</td>\n",
       "      <td>94.156.174.121,/watch</td>\n",
       "      <td>76803050</td>\n",
       "    </tr>\n",
       "    <tr>\n",
       "      <th>Mozilla/5.0 (Windows NT 6.1; WOW64; Trident/7.0; rv:11.0) like Gecko</th>\n",
       "      <th>/N4215/adj/amzn.us.sr.aps</th>\n",
       "      <th>54.66.253.144</th>\n",
       "      <td>True</td>\n",
       "      <td>443</td>\n",
       "      <td>54.66.253.144,/s/ref=nb_sb_noss_1/167-3294888-...</td>\n",
       "      <td>562884990</td>\n",
       "    </tr>\n",
       "    <tr>\n",
       "      <th>Mozilla/5.0 (compatible; MSIE 9.0; Windows NT 6.1; WOW64; Trident/5.0; MASB)</th>\n",
       "      <th>/submit.php</th>\n",
       "      <th>185.82.126.47</th>\n",
       "      <td>True</td>\n",
       "      <td>443</td>\n",
       "      <td>185.82.126.47,/pixel</td>\n",
       "      <td>305419896</td>\n",
       "    </tr>\n",
       "  </tbody>\n",
       "</table>\n",
       "</div>"
      ],
      "text/plain": [
       "                                                                                               SSL  \\\n",
       "User Agent                                         POST uri                  Host                    \n",
       "Mozilla/5.0 (Linux; Android 6.0; HTC One X10 Bu... /hr                       103.243.183.250  True   \n",
       "Mozilla/5.0 (Windows NT 6.1) AppleWebKit/537.36... /ptracking                94.156.174.121   True   \n",
       "Mozilla/5.0 (Windows NT 6.1; WOW64; Trident/7.0... /N4215/adj/amzn.us.sr.aps 54.66.253.144    True   \n",
       "Mozilla/5.0 (compatible; MSIE 9.0; Windows NT 6... /submit.php               185.82.126.47    True   \n",
       "\n",
       "                                                                                              Port  \\\n",
       "User Agent                                         POST uri                  Host                    \n",
       "Mozilla/5.0 (Linux; Android 6.0; HTC One X10 Bu... /hr                       103.243.183.250   443   \n",
       "Mozilla/5.0 (Windows NT 6.1) AppleWebKit/537.36... /ptracking                94.156.174.121    443   \n",
       "Mozilla/5.0 (Windows NT 6.1; WOW64; Trident/7.0... /N4215/adj/amzn.us.sr.aps 54.66.253.144     443   \n",
       "Mozilla/5.0 (compatible; MSIE 9.0; Windows NT 6... /submit.php               185.82.126.47     443   \n",
       "\n",
       "                                                                                                                                        GET uri  \\\n",
       "User Agent                                         POST uri                  Host                                                                 \n",
       "Mozilla/5.0 (Linux; Android 6.0; HTC One X10 Bu... /hr                       103.243.183.250                         103.243.183.250,/search.js   \n",
       "Mozilla/5.0 (Windows NT 6.1) AppleWebKit/537.36... /ptracking                94.156.174.121                               94.156.174.121,/watch   \n",
       "Mozilla/5.0 (Windows NT 6.1; WOW64; Trident/7.0... /N4215/adj/amzn.us.sr.aps 54.66.253.144    54.66.253.144,/s/ref=nb_sb_noss_1/167-3294888-...   \n",
       "Mozilla/5.0 (compatible; MSIE 9.0; Windows NT 6... /submit.php               185.82.126.47                                 185.82.126.47,/pixel   \n",
       "\n",
       "                                                                                              Watermark  \n",
       "User Agent                                         POST uri                  Host                        \n",
       "Mozilla/5.0 (Linux; Android 6.0; HTC One X10 Bu... /hr                       103.243.183.250  305419896  \n",
       "Mozilla/5.0 (Windows NT 6.1) AppleWebKit/537.36... /ptracking                94.156.174.121    76803050  \n",
       "Mozilla/5.0 (Windows NT 6.1; WOW64; Trident/7.0... /N4215/adj/amzn.us.sr.aps 54.66.253.144    562884990  \n",
       "Mozilla/5.0 (compatible; MSIE 9.0; Windows NT 6... /submit.php               185.82.126.47    305419896  "
      ]
     },
     "execution_count": 20,
     "metadata": {},
     "output_type": "execute_result"
    }
   ],
   "source": [
    "# group data by \"User Agent\" , \"POST uri\" and \"Host\" columns\n",
    "df.groupby(['User Agent','POST uri', 'Host']).first()"
   ]
  },
  {
   "cell_type": "code",
   "execution_count": 22,
   "metadata": {},
   "outputs": [
    {
     "data": {
      "text/html": [
       "<div>\n",
       "<style scoped>\n",
       "    .dataframe tbody tr th:only-of-type {\n",
       "        vertical-align: middle;\n",
       "    }\n",
       "\n",
       "    .dataframe tbody tr th {\n",
       "        vertical-align: top;\n",
       "    }\n",
       "\n",
       "    .dataframe thead th {\n",
       "        text-align: right;\n",
       "    }\n",
       "</style>\n",
       "<table border=\"1\" class=\"dataframe\">\n",
       "  <thead>\n",
       "    <tr style=\"text-align: right;\">\n",
       "      <th></th>\n",
       "      <th></th>\n",
       "      <th>Host</th>\n",
       "      <th>SSL</th>\n",
       "      <th>Port</th>\n",
       "      <th>GET uri</th>\n",
       "      <th>Watermark</th>\n",
       "    </tr>\n",
       "    <tr>\n",
       "      <th>POST uri</th>\n",
       "      <th>User Agent</th>\n",
       "      <th></th>\n",
       "      <th></th>\n",
       "      <th></th>\n",
       "      <th></th>\n",
       "      <th></th>\n",
       "    </tr>\n",
       "  </thead>\n",
       "  <tbody>\n",
       "    <tr>\n",
       "      <th>/N4215/adj/amzn.us.sr.aps</th>\n",
       "      <th>Mozilla/5.0 (Windows NT 6.1; WOW64; Trident/7.0; rv:11.0) like Gecko</th>\n",
       "      <td>54.66.253.144</td>\n",
       "      <td>True</td>\n",
       "      <td>443</td>\n",
       "      <td>54.66.253.144,/s/ref=nb_sb_noss_1/167-3294888-...</td>\n",
       "      <td>562884990</td>\n",
       "    </tr>\n",
       "    <tr>\n",
       "      <th>/hr</th>\n",
       "      <th>Mozilla/5.0 (Linux; Android 6.0; HTC One X10 Build/MRA58K; wv) AppleWebKit/537.36 (KHTML, like Gecko) Version/4.0</th>\n",
       "      <td>103.243.183.250</td>\n",
       "      <td>True</td>\n",
       "      <td>443</td>\n",
       "      <td>103.243.183.250,/search.js</td>\n",
       "      <td>305419896</td>\n",
       "    </tr>\n",
       "    <tr>\n",
       "      <th>/ptracking</th>\n",
       "      <th>Mozilla/5.0 (Windows NT 6.1) AppleWebKit/537.36 (KHTML, like Gecko)</th>\n",
       "      <td>94.156.174.121</td>\n",
       "      <td>True</td>\n",
       "      <td>443</td>\n",
       "      <td>94.156.174.121,/watch</td>\n",
       "      <td>76803050</td>\n",
       "    </tr>\n",
       "    <tr>\n",
       "      <th>/submit.php</th>\n",
       "      <th>Mozilla/5.0 (compatible; MSIE 9.0; Windows NT 6.1; WOW64; Trident/5.0; MASB)</th>\n",
       "      <td>185.82.126.47</td>\n",
       "      <td>True</td>\n",
       "      <td>443</td>\n",
       "      <td>185.82.126.47,/pixel</td>\n",
       "      <td>305419896</td>\n",
       "    </tr>\n",
       "  </tbody>\n",
       "</table>\n",
       "</div>"
      ],
      "text/plain": [
       "                                                                                         Host  \\\n",
       "POST uri                  User Agent                                                            \n",
       "/N4215/adj/amzn.us.sr.aps Mozilla/5.0 (Windows NT 6.1; WOW64; Trident/7.0...    54.66.253.144   \n",
       "/hr                       Mozilla/5.0 (Linux; Android 6.0; HTC One X10 Bu...  103.243.183.250   \n",
       "/ptracking                Mozilla/5.0 (Windows NT 6.1) AppleWebKit/537.36...   94.156.174.121   \n",
       "/submit.php               Mozilla/5.0 (compatible; MSIE 9.0; Windows NT 6...    185.82.126.47   \n",
       "\n",
       "                                                                               SSL  \\\n",
       "POST uri                  User Agent                                                 \n",
       "/N4215/adj/amzn.us.sr.aps Mozilla/5.0 (Windows NT 6.1; WOW64; Trident/7.0...  True   \n",
       "/hr                       Mozilla/5.0 (Linux; Android 6.0; HTC One X10 Bu...  True   \n",
       "/ptracking                Mozilla/5.0 (Windows NT 6.1) AppleWebKit/537.36...  True   \n",
       "/submit.php               Mozilla/5.0 (compatible; MSIE 9.0; Windows NT 6...  True   \n",
       "\n",
       "                                                                              Port  \\\n",
       "POST uri                  User Agent                                                 \n",
       "/N4215/adj/amzn.us.sr.aps Mozilla/5.0 (Windows NT 6.1; WOW64; Trident/7.0...   443   \n",
       "/hr                       Mozilla/5.0 (Linux; Android 6.0; HTC One X10 Bu...   443   \n",
       "/ptracking                Mozilla/5.0 (Windows NT 6.1) AppleWebKit/537.36...   443   \n",
       "/submit.php               Mozilla/5.0 (compatible; MSIE 9.0; Windows NT 6...   443   \n",
       "\n",
       "                                                                                                                        GET uri  \\\n",
       "POST uri                  User Agent                                                                                              \n",
       "/N4215/adj/amzn.us.sr.aps Mozilla/5.0 (Windows NT 6.1; WOW64; Trident/7.0...  54.66.253.144,/s/ref=nb_sb_noss_1/167-3294888-...   \n",
       "/hr                       Mozilla/5.0 (Linux; Android 6.0; HTC One X10 Bu...                         103.243.183.250,/search.js   \n",
       "/ptracking                Mozilla/5.0 (Windows NT 6.1) AppleWebKit/537.36...                              94.156.174.121,/watch   \n",
       "/submit.php               Mozilla/5.0 (compatible; MSIE 9.0; Windows NT 6...                               185.82.126.47,/pixel   \n",
       "\n",
       "                                                                              Watermark  \n",
       "POST uri                  User Agent                                                     \n",
       "/N4215/adj/amzn.us.sr.aps Mozilla/5.0 (Windows NT 6.1; WOW64; Trident/7.0...  562884990  \n",
       "/hr                       Mozilla/5.0 (Linux; Android 6.0; HTC One X10 Bu...  305419896  \n",
       "/ptracking                Mozilla/5.0 (Windows NT 6.1) AppleWebKit/537.36...   76803050  \n",
       "/submit.php               Mozilla/5.0 (compatible; MSIE 9.0; Windows NT 6...  305419896  "
      ]
     },
     "execution_count": 22,
     "metadata": {},
     "output_type": "execute_result"
    }
   ],
   "source": [
    "# change the abve grouping order slightly to see how the data is displayed \n",
    "# group data by \"User Agent\" , \"POST uri\"  columns\n",
    "df.groupby(['POST uri' , 'User Agent']).first()\n"
   ]
  },
  {
   "cell_type": "markdown",
   "metadata": {},
   "source": [
    "## Data Iteration"
   ]
  },
  {
   "cell_type": "code",
   "execution_count": 23,
   "metadata": {
    "scrolled": true
   },
   "outputs": [
    {
     "data": {
      "text/plain": [
       "0      54.66.253.144\n",
       "1    103.243.183.250\n",
       "2      185.82.126.47\n",
       "3     94.156.174.121\n",
       "Name: Host, dtype: object"
      ]
     },
     "execution_count": 23,
     "metadata": {},
     "output_type": "execute_result"
    }
   ],
   "source": [
    "# Iterate over the \"Host\" column\n",
    "df['Host'].head()"
   ]
  },
  {
   "cell_type": "markdown",
   "metadata": {},
   "source": [
    "# Create New Column"
   ]
  },
  {
   "cell_type": "code",
   "execution_count": null,
   "metadata": {},
   "outputs": [],
   "source": [
    "# Create Column"
   ]
  },
  {
   "cell_type": "code",
   "execution_count": null,
   "metadata": {},
   "outputs": [],
   "source": [
    "# data_in = [{'Host'}]\n",
    "# df_new = pd.DataFrame(data_in)"
   ]
  },
  {
   "cell_type": "code",
   "execution_count": null,
   "metadata": {},
   "outputs": [],
   "source": [
    "#create a new dataframe\n",
    "df_2 = df\n",
    "\n",
    "# #create a new empty column\n",
    "# df_2 = df.reindex(columns = Mydataframe.columns.tolist()  + ['Hostname'])\n",
    "# df_2.head()"
   ]
  },
  {
   "cell_type": "code",
   "execution_count": null,
   "metadata": {
    "scrolled": true
   },
   "outputs": [],
   "source": [
    "df_2.head()"
   ]
  },
  {
   "cell_type": "code",
   "execution_count": null,
   "metadata": {},
   "outputs": [],
   "source": [
    "ip_addrs = df_2['Host']\n",
    "ip_addrs.head()"
   ]
  },
  {
   "cell_type": "code",
   "execution_count": null,
   "metadata": {},
   "outputs": [],
   "source": [
    "df_2['Host'].head()"
   ]
  },
  {
   "cell_type": "code",
   "execution_count": null,
   "metadata": {},
   "outputs": [],
   "source": [
    "### Need to figure out how to iterate over df['Host'] Column\n",
    "##https://stackoverflow.com/questions/16476924/how-to-iterate-over-rows-in-a-dataframe-in-pandas/55557758#55557758"
   ]
  },
  {
   "cell_type": "code",
   "execution_count": null,
   "metadata": {
    "scrolled": true
   },
   "outputs": [],
   "source": [
    "# for i, row in df_2.iterrows():\n",
    "#     print(row['Host'])\n",
    "\n",
    "for i, row in df_2.iterrows():\n",
    "    print(i, row)\n"
   ]
  },
  {
   "cell_type": "markdown",
   "metadata": {},
   "source": [
    "## after sucessfuly iterating over df 'Host', use, ipap.location code below to get IP info"
   ]
  },
  {
   "cell_type": "code",
   "execution_count": null,
   "metadata": {},
   "outputs": [],
   "source": [
    "for ip in ip_addrs:\n",
    "    try:\n",
    "        ip_res_data = (ipapi.location(ip))\n",
    "        time.sleep(5)\n",
    "    except Exception as e:\n",
    "        ip_res_data.append(e)"
   ]
  },
  {
   "cell_type": "code",
   "execution_count": null,
   "metadata": {},
   "outputs": [],
   "source": [
    "ip_res_data\n",
    "\n",
    "#why this only saved one value"
   ]
  },
  {
   "cell_type": "markdown",
   "metadata": {},
   "source": [
    "## need to dump the collected JSON data and then just access: \"asn\", \"country\", \"org\" values"
   ]
  },
  {
   "cell_type": "code",
   "execution_count": null,
   "metadata": {},
   "outputs": [],
   "source": [
    "# ip_res_data_serial = json.dumps(ip_res_data)\n",
    "# type(ip_res_data_serial)"
   ]
  },
  {
   "cell_type": "code",
   "execution_count": null,
   "metadata": {},
   "outputs": [],
   "source": [
    "#IP resolution using socket loop\n",
    "##https://gist.github.com/Wildcarde/1b718dc919601c3b978b226da642247a\n",
    "\n",
    "# ip_addrs = df['Host']\n",
    "# for ip in ip_addrs:\n",
    "#     try:\n",
    "#         print(socket.gethostbyaddr(ip))\n",
    "#     except: \n",
    "#         print(\"No resolution for %s\" % (ip))\n",
    "    \n"
   ]
  },
  {
   "cell_type": "code",
   "execution_count": null,
   "metadata": {},
   "outputs": [],
   "source": [
    "# #IP ressolution using ipapi library\n",
    "# ipapi.location('54.66.253.144')\n",
    "\n",
    "# #interested fields: asn, country_name, org"
   ]
  },
  {
   "cell_type": "code",
   "execution_count": null,
   "metadata": {},
   "outputs": [],
   "source": []
  },
  {
   "cell_type": "code",
   "execution_count": null,
   "metadata": {},
   "outputs": [],
   "source": [
    "# json.dumps(ip_res_data['country_name'],['ip'])"
   ]
  },
  {
   "cell_type": "code",
   "execution_count": null,
   "metadata": {},
   "outputs": [],
   "source": [
    "# for data in ip_res_data['country_name']:\n",
    "#     print(country_name)"
   ]
  }
 ],
 "metadata": {
  "kernelspec": {
   "display_name": "Python 3",
   "language": "python",
   "name": "python3"
  },
  "language_info": {
   "codemirror_mode": {
    "name": "ipython",
    "version": 3
   },
   "file_extension": ".py",
   "mimetype": "text/x-python",
   "name": "python",
   "nbconvert_exporter": "python",
   "pygments_lexer": "ipython3",
   "version": "3.5.3"
  }
 },
 "nbformat": 4,
 "nbformat_minor": 4
}
